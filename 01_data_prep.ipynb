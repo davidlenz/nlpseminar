{
 "cells": [
  {
   "cell_type": "markdown",
   "metadata": {},
   "source": [
    "- 1. Load Data\n",
    "- 2. Get to know Data\n",
    "- 3. Clean Data\n",
    "    - 3.1 remove weird characters\n",
    "    - 3.2 stopwords\n",
    "    - 3.3 popularity based prefiltering\n",
    "    - 3.4 lemmatization / stemming\n",
    "- 4. Tokenize Data\n",
    "- 5. Save preprocessed data"
   ]
  },
  {
   "cell_type": "markdown",
   "metadata": {},
   "source": [
    "# ---------------------------------------------------------------------- #\n",
    "# 1. Load Data\n",
    "\n",
    "Raw data is gathered from [newsapi](https://newsapi.org/) using [this script](https://gist.github.com/davidlenz/961b5cf501b8f89a8c10cbd45306001b)\n",
    "\n",
    "### Newsapi:"
   ]
  },
  {
   "cell_type": "code",
   "execution_count": 20,
   "metadata": {},
   "outputs": [
    {
     "data": {
      "text/html": [
       "\n",
       "        <iframe\n",
       "            width=\"1200\"\n",
       "            height=\"350\"\n",
       "            src=\"https://newsapi.org/\"\n",
       "            frameborder=\"0\"\n",
       "            allowfullscreen\n",
       "        ></iframe>\n",
       "        "
      ],
      "text/plain": [
       "<IPython.lib.display.IFrame at 0x1c27787b9c8>"
      ]
     },
     "metadata": {},
     "output_type": "display_data"
    }
   ],
   "source": [
    "from IPython.display import IFrame    \n",
    "display(IFrame(\"https://newsapi.org/\", width=1200, height=350))"
   ]
  },
  {
   "cell_type": "markdown",
   "metadata": {},
   "source": [
    "We use [pandas](https://pandas.pydata.org/) to generally handle the data.\n",
    "\n",
    "### Pandas:"
   ]
  },
  {
   "cell_type": "code",
   "execution_count": 21,
   "metadata": {},
   "outputs": [
    {
     "data": {
      "text/html": [
       "\n",
       "        <iframe\n",
       "            width=\"1200\"\n",
       "            height=\"350\"\n",
       "            src=\"https://pandas.pydata.org/\"\n",
       "            frameborder=\"0\"\n",
       "            allowfullscreen\n",
       "        ></iframe>\n",
       "        "
      ],
      "text/plain": [
       "<IPython.lib.display.IFrame at 0x1c27787bd88>"
      ]
     },
     "metadata": {},
     "output_type": "display_data"
    }
   ],
   "source": [
    "display(IFrame(\"https://pandas.pydata.org/\", width=1200, height=350))"
   ]
  },
  {
   "cell_type": "code",
   "execution_count": 22,
   "metadata": {},
   "outputs": [],
   "source": [
    "import pandas as pd\n",
    "df = pd.read_csv('data/sample_5000.csv')"
   ]
  },
  {
   "cell_type": "markdown",
   "metadata": {},
   "source": [
    "# 2. Get to know Data"
   ]
  },
  {
   "cell_type": "code",
   "execution_count": 23,
   "metadata": {},
   "outputs": [
    {
     "name": "stdout",
     "output_type": "stream",
     "text": [
      "Shape: (5000, 4)\n"
     ]
    },
    {
     "data": {
      "text/html": [
       "<div>\n",
       "<style scoped>\n",
       "    .dataframe tbody tr th:only-of-type {\n",
       "        vertical-align: middle;\n",
       "    }\n",
       "\n",
       "    .dataframe tbody tr th {\n",
       "        vertical-align: top;\n",
       "    }\n",
       "\n",
       "    .dataframe thead th {\n",
       "        text-align: right;\n",
       "    }\n",
       "</style>\n",
       "<table border=\"1\" class=\"dataframe\">\n",
       "  <thead>\n",
       "    <tr style=\"text-align: right;\">\n",
       "      <th></th>\n",
       "      <th>Index</th>\n",
       "      <th>date</th>\n",
       "      <th>text</th>\n",
       "      <th>title</th>\n",
       "    </tr>\n",
       "  </thead>\n",
       "  <tbody>\n",
       "    <tr>\n",
       "      <th>0</th>\n",
       "      <td>621031</td>\n",
       "      <td>2017-10-26 15:00:54</td>\n",
       "      <td>eBay launches visual search tools that let you shop using photos from your phone or web0eBay today is launching two new visual search tools that will allow online shoppers to use photos they snap,...</td>\n",
       "      <td>eBay launches visual search tools that let you shop using photos from your phone or web</td>\n",
       "    </tr>\n",
       "    <tr>\n",
       "      <th>1</th>\n",
       "      <td>621032</td>\n",
       "      <td>2017-10-26 00:00:00</td>\n",
       "      <td>Monsanto Attacks Scientists After Studies Show Trouble For Its New Weedkiller : The SaltScientists are accusing the seed-and-pesticide giant Monsanto of denying the risks of its latest weedkilling...</td>\n",
       "      <td>Monsanto Attacks Scientists After Studies Show Trouble For Its New Weedkiller</td>\n",
       "    </tr>\n",
       "    <tr>\n",
       "      <th>2</th>\n",
       "      <td>621035</td>\n",
       "      <td>2017-10-26 14:41:12</td>\n",
       "      <td>Hard Drive Stats for Q3 2017In Q3 2017, Backblaze introduced both 10 TB and 12 TB hard drives into our data centers, we continued to retire 3 TB and 4 TB hard drives to increase storage density, a...</td>\n",
       "      <td>2017 Hard Drive Reliability by Drive Size and Brand</td>\n",
       "    </tr>\n",
       "    <tr>\n",
       "      <th>3</th>\n",
       "      <td>621036</td>\n",
       "      <td>2017-10-26 15:27:11</td>\n",
       "      <td>This is part 1 of the “How Unreal Renders a Frame” series, you can access part 2 and part 3 as well.I was looking around the Unreal source the other day and inspired by some excellent breakdowns o...</td>\n",
       "      <td>How Unreal Renders a Frame</td>\n",
       "    </tr>\n",
       "    <tr>\n",
       "      <th>4</th>\n",
       "      <td>621423</td>\n",
       "      <td>2017-10-26 16:02:00</td>\n",
       "      <td>Boeing builds towards its first space taxi testWhen NASA first named Boeing and SpaceX as recipients of the Commercial Crew Program, they originally aimed to end the agency's dependence on Russia ...</td>\n",
       "      <td>Boeing builds towards its first space taxi test</td>\n",
       "    </tr>\n",
       "  </tbody>\n",
       "</table>\n",
       "</div>"
      ],
      "text/plain": [
       "    Index                 date  \\\n",
       "0  621031  2017-10-26 15:00:54   \n",
       "1  621032  2017-10-26 00:00:00   \n",
       "2  621035  2017-10-26 14:41:12   \n",
       "3  621036  2017-10-26 15:27:11   \n",
       "4  621423  2017-10-26 16:02:00   \n",
       "\n",
       "                                                                                                                                                                                                      text  \\\n",
       "0  eBay launches visual search tools that let you shop using photos from your phone or web0eBay today is launching two new visual search tools that will allow online shoppers to use photos they snap,...   \n",
       "1  Monsanto Attacks Scientists After Studies Show Trouble For Its New Weedkiller : The SaltScientists are accusing the seed-and-pesticide giant Monsanto of denying the risks of its latest weedkilling...   \n",
       "2  Hard Drive Stats for Q3 2017In Q3 2017, Backblaze introduced both 10 TB and 12 TB hard drives into our data centers, we continued to retire 3 TB and 4 TB hard drives to increase storage density, a...   \n",
       "3  This is part 1 of the “How Unreal Renders a Frame” series, you can access part 2 and part 3 as well.I was looking around the Unreal source the other day and inspired by some excellent breakdowns o...   \n",
       "4  Boeing builds towards its first space taxi testWhen NASA first named Boeing and SpaceX as recipients of the Commercial Crew Program, they originally aimed to end the agency's dependence on Russia ...   \n",
       "\n",
       "                                                                                     title  \n",
       "0  eBay launches visual search tools that let you shop using photos from your phone or web  \n",
       "1            Monsanto Attacks Scientists After Studies Show Trouble For Its New Weedkiller  \n",
       "2                                      2017 Hard Drive Reliability by Drive Size and Brand  \n",
       "3                                                               How Unreal Renders a Frame  \n",
       "4                                          Boeing builds towards its first space taxi test  "
      ]
     },
     "execution_count": 23,
     "metadata": {},
     "output_type": "execute_result"
    }
   ],
   "source": [
    "print(\"Shape:\", df.shape)\n",
    "df.head()"
   ]
  },
  {
   "cell_type": "code",
   "execution_count": 24,
   "metadata": {},
   "outputs": [
    {
     "data": {
      "text/html": [
       "<div>\n",
       "<style scoped>\n",
       "    .dataframe tbody tr th:only-of-type {\n",
       "        vertical-align: middle;\n",
       "    }\n",
       "\n",
       "    .dataframe tbody tr th {\n",
       "        vertical-align: top;\n",
       "    }\n",
       "\n",
       "    .dataframe thead th {\n",
       "        text-align: right;\n",
       "    }\n",
       "</style>\n",
       "<table border=\"1\" class=\"dataframe\">\n",
       "  <thead>\n",
       "    <tr style=\"text-align: right;\">\n",
       "      <th></th>\n",
       "      <th>Index</th>\n",
       "      <th>date</th>\n",
       "      <th>text</th>\n",
       "      <th>title</th>\n",
       "    </tr>\n",
       "  </thead>\n",
       "  <tbody>\n",
       "    <tr>\n",
       "      <th>3833</th>\n",
       "      <td>3162454</td>\n",
       "      <td>2018-01-23 13:43:00</td>\n",
       "      <td>Apple's HomePod smart speaker will ship February 9thApple's own vision for the future of home audio, the HomePod smart speaker, will begin shipping on February 9th. Pre-orders for the device open ...</td>\n",
       "      <td>Apple's HomePod smart speaker will ship February 9th</td>\n",
       "    </tr>\n",
       "    <tr>\n",
       "      <th>4189</th>\n",
       "      <td>3424385</td>\n",
       "      <td>2018-01-30 13:40:00</td>\n",
       "      <td>Amazon gets into healthcare with Warren Buffet and JPMorganAmazon just took a surprising turn into the healthcare industry, teaming up with investing hero Warren Buffet and New York-based bank JPM...</td>\n",
       "      <td>Amazon gets into healthcare with Warren Buffet and JPMorgan</td>\n",
       "    </tr>\n",
       "  </tbody>\n",
       "</table>\n",
       "</div>"
      ],
      "text/plain": [
       "        Index                 date  \\\n",
       "3833  3162454  2018-01-23 13:43:00   \n",
       "4189  3424385  2018-01-30 13:40:00   \n",
       "\n",
       "                                                                                                                                                                                                         text  \\\n",
       "3833  Apple's HomePod smart speaker will ship February 9thApple's own vision for the future of home audio, the HomePod smart speaker, will begin shipping on February 9th. Pre-orders for the device open ...   \n",
       "4189  Amazon gets into healthcare with Warren Buffet and JPMorganAmazon just took a surprising turn into the healthcare industry, teaming up with investing hero Warren Buffet and New York-based bank JPM...   \n",
       "\n",
       "                                                            title  \n",
       "3833         Apple's HomePod smart speaker will ship February 9th  \n",
       "4189  Amazon gets into healthcare with Warren Buffet and JPMorgan  "
      ]
     },
     "execution_count": 24,
     "metadata": {},
     "output_type": "execute_result"
    }
   ],
   "source": [
    "pd.set_option(\"max.colwidth\",200)\n",
    "df.sample(2)"
   ]
  },
  {
   "cell_type": "markdown",
   "metadata": {},
   "source": [
    "### Datatypes"
   ]
  },
  {
   "cell_type": "code",
   "execution_count": 25,
   "metadata": {},
   "outputs": [
    {
     "data": {
      "text/html": [
       "\n",
       "        <iframe\n",
       "            width=\"1200\"\n",
       "            height=\"150\"\n",
       "            src=\"https://www.tutorialsteacher.com/python/python-data-types\"\n",
       "            frameborder=\"0\"\n",
       "            allowfullscreen\n",
       "        ></iframe>\n",
       "        "
      ],
      "text/plain": [
       "<IPython.lib.display.IFrame at 0x1c2613dcfc8>"
      ]
     },
     "metadata": {},
     "output_type": "display_data"
    }
   ],
   "source": [
    "display(IFrame(\"https://www.tutorialsteacher.com/python/python-data-types\", width=1200, height=150))"
   ]
  },
  {
   "cell_type": "code",
   "execution_count": 26,
   "metadata": {},
   "outputs": [
    {
     "data": {
      "text/plain": [
       "Index     int64\n",
       "date     object\n",
       "text     object\n",
       "title    object\n",
       "dtype: object"
      ]
     },
     "execution_count": 26,
     "metadata": {},
     "output_type": "execute_result"
    }
   ],
   "source": [
    "df.dtypes"
   ]
  },
  {
   "cell_type": "markdown",
   "metadata": {},
   "source": [
    "### Data distribution\n",
    "\n",
    "First cast the date column, which is currently of object type, to datetime type."
   ]
  },
  {
   "cell_type": "code",
   "execution_count": 27,
   "metadata": {},
   "outputs": [
    {
     "data": {
      "text/plain": [
       "Index             int64\n",
       "date     datetime64[ns]\n",
       "text             object\n",
       "title            object\n",
       "dtype: object"
      ]
     },
     "execution_count": 27,
     "metadata": {},
     "output_type": "execute_result"
    }
   ],
   "source": [
    "df[\"date\"] = pd.to_datetime(df.date)\n",
    "df.dtypes"
   ]
  },
  {
   "cell_type": "markdown",
   "metadata": {},
   "source": [
    "Now cast the datetime object to the end/start of a period, for example end of week."
   ]
  },
  {
   "cell_type": "code",
   "execution_count": 28,
   "metadata": {},
   "outputs": [
    {
     "name": "stdout",
     "output_type": "stream",
     "text": [
      "Index             int64\n",
      "date     datetime64[ns]\n",
      "text             object\n",
      "title            object\n",
      "week     datetime64[ns]\n",
      "dtype: object\n"
     ]
    },
    {
     "data": {
      "text/html": [
       "<div>\n",
       "<style scoped>\n",
       "    .dataframe tbody tr th:only-of-type {\n",
       "        vertical-align: middle;\n",
       "    }\n",
       "\n",
       "    .dataframe tbody tr th {\n",
       "        vertical-align: top;\n",
       "    }\n",
       "\n",
       "    .dataframe thead th {\n",
       "        text-align: right;\n",
       "    }\n",
       "</style>\n",
       "<table border=\"1\" class=\"dataframe\">\n",
       "  <thead>\n",
       "    <tr style=\"text-align: right;\">\n",
       "      <th></th>\n",
       "      <th>Index</th>\n",
       "      <th>date</th>\n",
       "      <th>text</th>\n",
       "      <th>title</th>\n",
       "      <th>week</th>\n",
       "    </tr>\n",
       "  </thead>\n",
       "  <tbody>\n",
       "    <tr>\n",
       "      <th>0</th>\n",
       "      <td>621031</td>\n",
       "      <td>2017-10-26 15:00:54</td>\n",
       "      <td>eBay launches visual search tools that let you shop using photos from your phone or web0eBay today is launching two new visual search tools that will allow online shoppers to use photos they snap,...</td>\n",
       "      <td>eBay launches visual search tools that let you shop using photos from your phone or web</td>\n",
       "      <td>2017-10-29</td>\n",
       "    </tr>\n",
       "    <tr>\n",
       "      <th>1</th>\n",
       "      <td>621032</td>\n",
       "      <td>2017-10-26 00:00:00</td>\n",
       "      <td>Monsanto Attacks Scientists After Studies Show Trouble For Its New Weedkiller : The SaltScientists are accusing the seed-and-pesticide giant Monsanto of denying the risks of its latest weedkilling...</td>\n",
       "      <td>Monsanto Attacks Scientists After Studies Show Trouble For Its New Weedkiller</td>\n",
       "      <td>2017-10-29</td>\n",
       "    </tr>\n",
       "  </tbody>\n",
       "</table>\n",
       "</div>"
      ],
      "text/plain": [
       "    Index                date  \\\n",
       "0  621031 2017-10-26 15:00:54   \n",
       "1  621032 2017-10-26 00:00:00   \n",
       "\n",
       "                                                                                                                                                                                                      text  \\\n",
       "0  eBay launches visual search tools that let you shop using photos from your phone or web0eBay today is launching two new visual search tools that will allow online shoppers to use photos they snap,...   \n",
       "1  Monsanto Attacks Scientists After Studies Show Trouble For Its New Weedkiller : The SaltScientists are accusing the seed-and-pesticide giant Monsanto of denying the risks of its latest weedkilling...   \n",
       "\n",
       "                                                                                     title  \\\n",
       "0  eBay launches visual search tools that let you shop using photos from your phone or web   \n",
       "1            Monsanto Attacks Scientists After Studies Show Trouble For Its New Weedkiller   \n",
       "\n",
       "        week  \n",
       "0 2017-10-29  \n",
       "1 2017-10-29  "
      ]
     },
     "execution_count": 28,
     "metadata": {},
     "output_type": "execute_result"
    }
   ],
   "source": [
    "df[\"week\"] = df.date.dt.to_period(\"W\").dt.to_timestamp('W')\n",
    "print(df.dtypes)\n",
    "df.head(2)"
   ]
  },
  {
   "cell_type": "code",
   "execution_count": 29,
   "metadata": {},
   "outputs": [
    {
     "data": {
      "text/plain": [
       "<matplotlib.axes._subplots.AxesSubplot at 0x1c2613dd708>"
      ]
     },
     "execution_count": 29,
     "metadata": {},
     "output_type": "execute_result"
    },
    {
     "data": {
      "image/png": "[encoded data removed]",
      "text/plain": [
       "<Figure size 432x288 with 1 Axes>"
      ]
     },
     "metadata": {
      "needs_background": "light"
     },
     "output_type": "display_data"
    }
   ],
   "source": [
    "df.groupby(\"week\").title.count().plot(title=\"Number of articles per Week\")"
   ]
  },
  {
   "cell_type": "markdown",
   "metadata": {},
   "source": [
    "##### Number of words per article"
   ]
  },
  {
   "cell_type": "code",
   "execution_count": 30,
   "metadata": {},
   "outputs": [
    {
     "data": {
      "text/plain": [
       "count     5000.000000\n",
       "mean       908.503800\n",
       "std       1744.611774\n",
       "min         29.000000\n",
       "25%        298.000000\n",
       "50%        568.000000\n",
       "75%       1086.000000\n",
       "max      94980.000000\n",
       "Name: text, dtype: float64"
      ]
     },
     "execution_count": 30,
     "metadata": {},
     "output_type": "execute_result"
    }
   ],
   "source": [
    "df.text.str.split().apply(len).describe()"
   ]
  },
  {
   "cell_type": "code",
   "execution_count": 31,
   "metadata": {},
   "outputs": [
    {
     "data": {
      "text/plain": [
       "<matplotlib.axes._subplots.AxesSubplot at 0x1c2614759c8>"
      ]
     },
     "execution_count": 31,
     "metadata": {},
     "output_type": "execute_result"
    },
    {
     "data": {
      "image/png": "[encoded data removed]",
      "text/plain": [
       "<Figure size 432x288 with 1 Axes>"
      ]
     },
     "metadata": {
      "needs_background": "light"
     },
     "output_type": "display_data"
    }
   ],
   "source": [
    "df.text.str.split().apply(len).plot(kind=\"hist\", bins=3330, xlim=(0,5000))"
   ]
  },
  {
   "cell_type": "markdown",
   "metadata": {},
   "source": [
    "# 3. Clean Data"
   ]
  },
  {
   "cell_type": "code",
   "execution_count": 32,
   "metadata": {},
   "outputs": [
    {
     "name": "stdout",
     "output_type": "stream",
     "text": [
      "Wall time: 443 ms\n"
     ]
    },
    {
     "data": {
      "text/html": [
       "<div>\n",
       "<style scoped>\n",
       "    .dataframe tbody tr th:only-of-type {\n",
       "        vertical-align: middle;\n",
       "    }\n",
       "\n",
       "    .dataframe tbody tr th {\n",
       "        vertical-align: top;\n",
       "    }\n",
       "\n",
       "    .dataframe thead th {\n",
       "        text-align: right;\n",
       "    }\n",
       "</style>\n",
       "<table border=\"1\" class=\"dataframe\">\n",
       "  <thead>\n",
       "    <tr style=\"text-align: right;\">\n",
       "      <th></th>\n",
       "      <th>Index</th>\n",
       "      <th>date</th>\n",
       "      <th>text</th>\n",
       "      <th>title</th>\n",
       "      <th>week</th>\n",
       "      <th>clean_text</th>\n",
       "    </tr>\n",
       "  </thead>\n",
       "  <tbody>\n",
       "    <tr>\n",
       "      <th>0</th>\n",
       "      <td>621031</td>\n",
       "      <td>2017-10-26 15:00:54</td>\n",
       "      <td>eBay launches visual search tools that let you shop using photos from your phone or web0eBay today is launching two new visual search tools that will allow online shoppers to use photos they snap,...</td>\n",
       "      <td>eBay launches visual search tools that let you shop using photos from your phone or web</td>\n",
       "      <td>2017-10-29</td>\n",
       "      <td>ebay launches visual search tools that let you shop using photos from your phone or webebay today is launching two new visual search tools that will allow online shoppers to use photos they snap h...</td>\n",
       "    </tr>\n",
       "    <tr>\n",
       "      <th>1</th>\n",
       "      <td>621032</td>\n",
       "      <td>2017-10-26 00:00:00</td>\n",
       "      <td>Monsanto Attacks Scientists After Studies Show Trouble For Its New Weedkiller : The SaltScientists are accusing the seed-and-pesticide giant Monsanto of denying the risks of its latest weedkilling...</td>\n",
       "      <td>Monsanto Attacks Scientists After Studies Show Trouble For Its New Weedkiller</td>\n",
       "      <td>2017-10-29</td>\n",
       "      <td>monsanto attacks scientists after studies show trouble for its new weedkiller  the saltscientists are accusing the seedandpesticide giant monsanto of denying the risks of its latest weedkilling te...</td>\n",
       "    </tr>\n",
       "    <tr>\n",
       "      <th>2</th>\n",
       "      <td>621035</td>\n",
       "      <td>2017-10-26 14:41:12</td>\n",
       "      <td>Hard Drive Stats for Q3 2017In Q3 2017, Backblaze introduced both 10 TB and 12 TB hard drives into our data centers, we continued to retire 3 TB and 4 TB hard drives to increase storage density, a...</td>\n",
       "      <td>2017 Hard Drive Reliability by Drive Size and Brand</td>\n",
       "      <td>2017-10-29</td>\n",
       "      <td>hard drive stats for q in q  backblaze introduced both  tb and  tb hard drives into our data centers we continued to retire  tb and  tb hard drives to increase storage density and we added over  p...</td>\n",
       "    </tr>\n",
       "    <tr>\n",
       "      <th>3</th>\n",
       "      <td>621036</td>\n",
       "      <td>2017-10-26 15:27:11</td>\n",
       "      <td>This is part 1 of the “How Unreal Renders a Frame” series, you can access part 2 and part 3 as well.I was looking around the Unreal source the other day and inspired by some excellent breakdowns o...</td>\n",
       "      <td>How Unreal Renders a Frame</td>\n",
       "      <td>2017-10-29</td>\n",
       "      <td>this is part  of the how unreal renders a frame series you can access part  and part  as well.i was looking around the unreal source the other day and inspired by some excellent breakdowns of how ...</td>\n",
       "    </tr>\n",
       "    <tr>\n",
       "      <th>4</th>\n",
       "      <td>621423</td>\n",
       "      <td>2017-10-26 16:02:00</td>\n",
       "      <td>Boeing builds towards its first space taxi testWhen NASA first named Boeing and SpaceX as recipients of the Commercial Crew Program, they originally aimed to end the agency's dependence on Russia ...</td>\n",
       "      <td>Boeing builds towards its first space taxi test</td>\n",
       "      <td>2017-10-29</td>\n",
       "      <td>boeing builds towards its first space taxi testwhen nasa first named boeing and spacex as recipients of the commercial crew program they originally aimed to end the agencys dependence on russia by...</td>\n",
       "    </tr>\n",
       "  </tbody>\n",
       "</table>\n",
       "</div>"
      ],
      "text/plain": [
       "    Index                date  \\\n",
       "0  621031 2017-10-26 15:00:54   \n",
       "1  621032 2017-10-26 00:00:00   \n",
       "2  621035 2017-10-26 14:41:12   \n",
       "3  621036 2017-10-26 15:27:11   \n",
       "4  621423 2017-10-26 16:02:00   \n",
       "\n",
       "                                                                                                                                                                                                      text  \\\n",
       "0  eBay launches visual search tools that let you shop using photos from your phone or web0eBay today is launching two new visual search tools that will allow online shoppers to use photos they snap,...   \n",
       "1  Monsanto Attacks Scientists After Studies Show Trouble For Its New Weedkiller : The SaltScientists are accusing the seed-and-pesticide giant Monsanto of denying the risks of its latest weedkilling...   \n",
       "2  Hard Drive Stats for Q3 2017In Q3 2017, Backblaze introduced both 10 TB and 12 TB hard drives into our data centers, we continued to retire 3 TB and 4 TB hard drives to increase storage density, a...   \n",
       "3  This is part 1 of the “How Unreal Renders a Frame” series, you can access part 2 and part 3 as well.I was looking around the Unreal source the other day and inspired by some excellent breakdowns o...   \n",
       "4  Boeing builds towards its first space taxi testWhen NASA first named Boeing and SpaceX as recipients of the Commercial Crew Program, they originally aimed to end the agency's dependence on Russia ...   \n",
       "\n",
       "                                                                                     title  \\\n",
       "0  eBay launches visual search tools that let you shop using photos from your phone or web   \n",
       "1            Monsanto Attacks Scientists After Studies Show Trouble For Its New Weedkiller   \n",
       "2                                      2017 Hard Drive Reliability by Drive Size and Brand   \n",
       "3                                                               How Unreal Renders a Frame   \n",
       "4                                          Boeing builds towards its first space taxi test   \n",
       "\n",
       "        week  \\\n",
       "0 2017-10-29   \n",
       "1 2017-10-29   \n",
       "2 2017-10-29   \n",
       "3 2017-10-29   \n",
       "4 2017-10-29   \n",
       "\n",
       "                                                                                                                                                                                                clean_text  \n",
       "0  ebay launches visual search tools that let you shop using photos from your phone or webebay today is launching two new visual search tools that will allow online shoppers to use photos they snap h...  \n",
       "1  monsanto attacks scientists after studies show trouble for its new weedkiller  the saltscientists are accusing the seedandpesticide giant monsanto of denying the risks of its latest weedkilling te...  \n",
       "2  hard drive stats for q in q  backblaze introduced both  tb and  tb hard drives into our data centers we continued to retire  tb and  tb hard drives to increase storage density and we added over  p...  \n",
       "3  this is part  of the how unreal renders a frame series you can access part  and part  as well.i was looking around the unreal source the other day and inspired by some excellent breakdowns of how ...  \n",
       "4  boeing builds towards its first space taxi testwhen nasa first named boeing and spacex as recipients of the commercial crew program they originally aimed to end the agencys dependence on russia by...  "
      ]
     },
     "execution_count": 32,
     "metadata": {},
     "output_type": "execute_result"
    }
   ],
   "source": [
    "import re # regular expression library\n",
    "\n",
    "# get rid of everything except letters, space and .!?\n",
    "# regex explanation: https://regex101.com/r/xrfp0C/1\n",
    "# remove everything except lowercase a-z, spaces and .!?\n",
    "clean = lambda x : re.sub('[^a-z .!?]', \"\", str(x).lower())\n",
    "\n",
    "# clean text\n",
    "%time df[\"clean_text\"] = df.text.apply(clean) \n",
    "df.head()"
   ]
  },
  {
   "cell_type": "markdown",
   "metadata": {},
   "source": [
    "## Lemmatization / Stemming\n",
    "\n",
    "- Stemming -> Heuristic (fast)\n",
    "- Lemmatization -> Based on dictionary (not so fast)\n",
    "\n",
    "<img src=\"https://timkuhn.github.io/TextMining/images/lemma.png\" width=\"300\">"
   ]
  },
  {
   "cell_type": "code",
   "execution_count": null,
   "metadata": {},
   "outputs": [],
   "source": [
    "%%bash\n",
    "\n",
    "pip3 install -U spacy\n",
    "python3 -m spacy download en"
   ]
  },
  {
   "cell_type": "code",
   "execution_count": 33,
   "metadata": {},
   "outputs": [
    {
     "name": "stdout",
     "output_type": "stream",
     "text": [
      "Wall time: 972 ms\n"
     ]
    },
    {
     "data": {
      "text/plain": [
       "0    ebay launch visual search tool that let -PRON- shop use photo from -PRON- phone or webebay today be launch two new visual search tool that will allow online shopper to use photo -PRON- snap have s...\n",
       "1    monsanto attack scientist after study show trouble for -PRON- new weedkiller   the saltscientist be accuse the seedandpesticide giant monsanto of deny the risk of -PRON- late weedkilling technolog...\n",
       "2    hard drive stat for q in q   backblaze introduce both   tb and   tb hard drive into -PRON- datum center -PRON- continue to retire   tb and   tb hard drive to increase storage density and -PRON- ad...\n",
       "3    this be part   of the how unreal render a frame series -PRON- can access part   and part   as well.i be look around the unreal source the other day and inspire by some excellent breakdown of how p...\n",
       "4    boeing build towards -PRON- first space taxi testwhen nasa first name boeing and spacex as recipient of the commercial crew program -PRON- originally aim to end the agencys dependence on russia by...\n",
       "5    netflix will stream a strange thing aftershow for diehard fansit safe to say that the second season of netflixs strange thing be pretty eagerly anticipate and now the stream company be capitalize ...\n",
       "6    twitter block ad from two russiabacke medium agenciestwitter have announce that -PRON- will no longer allow two prominent stateowne russian medium organization from advertise on -PRON- platform . ...\n",
       "7    apnewsbreak georgia election server wipe after suit filedfile   this sept .    file photo show the screen of an electronic voting machine during testing at the kennesaw state university center for...\n",
       "8    image caption brand late book deal with -PRON- own addiction to drug alcohol sex and fameaddiction and mental health may not be the kind of issue -PRON- would normally expect to be address at a st...\n",
       "9    in this oct .    photo baby turkey stand in a poult barn at smotherman farm near waco texas . the farm be involve in a pilot project by cargills honeysuckle white brand that allow consumer to be a...\n",
       "Name: clean_text, dtype: object"
      ]
     },
     "execution_count": 33,
     "metadata": {},
     "output_type": "execute_result"
    }
   ],
   "source": [
    "import spacy\n",
    "# make sure your downloaded the english model with \"python -m spacy download en\"\n",
    "nlp = spacy.load('en')\n",
    "\n",
    "def lemmatize(text, nlp):\n",
    "    \"\"\"Takes a text and a spacy nlp object as input and returns lemmatized tokens for the text using the spacy model\"\"\"\n",
    "    # pass to spacy \n",
    "    doc = nlp(text, disable=[\"ner\", \"pos\"])\n",
    "    \n",
    "    # get lemma for each token (i.e. word)\n",
    "    list_of_lemmatized_words = [token.lemma_ for token in doc]\n",
    "    \n",
    "    # join words to string\n",
    "    lemmatized_text = \" \".join(list_of_lemmatized_words)\n",
    "    \n",
    "    # return string\n",
    "    return lemmatized_text\n",
    "    \n",
    "\n",
    "# apply the lemmatize function to the first 50 texts\n",
    "%time df[\"clean_text\"].iloc[:10].apply(lambda text : lemmatize(text, nlp))"
   ]
  },
  {
   "cell_type": "markdown",
   "metadata": {},
   "source": [
    "## Popularity based prefiltering\n",
    "\n",
    "Idea: Very frequent and very infrequent words are either too common or too rare to provide insights.\n",
    "\n",
    "-> removing corpus-specific stop words\n",
    "\n",
    "<img src=\"https://finnaarupnielsen.files.wordpress.com/2013/10/brownzipf.png\" width=350>"
   ]
  },
  {
   "cell_type": "markdown",
   "metadata": {},
   "source": [
    "#### Word frequency for our corpus:"
   ]
  },
  {
   "cell_type": "code",
   "execution_count": 34,
   "metadata": {},
   "outputs": [
    {
     "data": {
      "text/plain": [
       "<matplotlib.axes._subplots.AxesSubplot at 0x1c21516a248>"
      ]
     },
     "execution_count": 34,
     "metadata": {},
     "output_type": "execute_result"
    },
    {
     "data": {
      "image/png": "[encoded data removed]",
      "text/plain": [
       "<Figure size 432x288 with 1 Axes>"
      ]
     },
     "metadata": {
      "needs_background": "light"
     },
     "output_type": "display_data"
    }
   ],
   "source": [
    "import matplotlib.pyplot as plt\n",
    "pd.Series([j for k in df[\"clean_text\"].str.split().values for j in k]).value_counts().rank().plot(logy=True, logx=True)"
   ]
  },
  {
   "cell_type": "markdown",
   "metadata": {},
   "source": [
    "https://scikit-learn.org/stable/modules/generated/sklearn.feature_extraction.text.CountVectorizer.html"
   ]
  },
  {
   "cell_type": "code",
   "execution_count": 35,
   "metadata": {},
   "outputs": [
    {
     "name": "stdout",
     "output_type": "stream",
     "text": [
      "Wall time: 2.93 s\n"
     ]
    },
    {
     "data": {
      "text/plain": [
       "8372"
      ]
     },
     "execution_count": 35,
     "metadata": {},
     "output_type": "execute_result"
    }
   ],
   "source": [
    "from sklearn.feature_extraction.text import CountVectorizer\n",
    "stopwords=['of', \"the\", \"to\", \"a\"]\n",
    "cv = CountVectorizer(min_df=0.005, # min percentage of documents a token needs to appear in \n",
    "                     max_df=0.6, # max percentage of docs a token is allowed to appear in\n",
    "                     stop_words=stopwords) \n",
    "\n",
    "%time cv.fit(df[\"clean_text\"].values)\n",
    "len(cv.vocabulary_)"
   ]
  },
  {
   "cell_type": "markdown",
   "metadata": {},
   "source": [
    "#### Get the vocabulary from the cv object and filter all words not in the vocab"
   ]
  },
  {
   "cell_type": "code",
   "execution_count": 36,
   "metadata": {},
   "outputs": [
    {
     "data": {
      "text/html": [
       "<div>\n",
       "<style scoped>\n",
       "    .dataframe tbody tr th:only-of-type {\n",
       "        vertical-align: middle;\n",
       "    }\n",
       "\n",
       "    .dataframe tbody tr th {\n",
       "        vertical-align: top;\n",
       "    }\n",
       "\n",
       "    .dataframe thead th {\n",
       "        text-align: right;\n",
       "    }\n",
       "</style>\n",
       "<table border=\"1\" class=\"dataframe\">\n",
       "  <thead>\n",
       "    <tr style=\"text-align: right;\">\n",
       "      <th></th>\n",
       "      <th>Index</th>\n",
       "      <th>date</th>\n",
       "      <th>text</th>\n",
       "      <th>title</th>\n",
       "      <th>week</th>\n",
       "      <th>clean_text</th>\n",
       "    </tr>\n",
       "  </thead>\n",
       "  <tbody>\n",
       "    <tr>\n",
       "      <th>0</th>\n",
       "      <td>621031</td>\n",
       "      <td>2017-10-26 15:00:54</td>\n",
       "      <td>eBay launches visual search tools that let you shop using photos from your phone or web0eBay today is launching two new visual search tools that will allow online shoppers to use photos they snap,...</td>\n",
       "      <td>eBay launches visual search tools that let you shop using photos from your phone or web</td>\n",
       "      <td>2017-10-29</td>\n",
       "      <td>ebay launches visual search tools let shop using photos your phone today launching two visual search tools allow online shoppers use photos snap saved phone even those find while browsing web soci...</td>\n",
       "    </tr>\n",
       "    <tr>\n",
       "      <th>1</th>\n",
       "      <td>621032</td>\n",
       "      <td>2017-10-26 00:00:00</td>\n",
       "      <td>Monsanto Attacks Scientists After Studies Show Trouble For Its New Weedkiller : The SaltScientists are accusing the seed-and-pesticide giant Monsanto of denying the risks of its latest weedkilling...</td>\n",
       "      <td>Monsanto Attacks Scientists After Studies Show Trouble For Its New Weedkiller</td>\n",
       "      <td>2017-10-29</td>\n",
       "      <td>attacks scientists after studies show trouble accusing giant denying risks latest responded attacking some scientific attacks scientists after studies show trouble scott expert university research...</td>\n",
       "    </tr>\n",
       "    <tr>\n",
       "      <th>2</th>\n",
       "      <td>621035</td>\n",
       "      <td>2017-10-26 14:41:12</td>\n",
       "      <td>Hard Drive Stats for Q3 2017In Q3 2017, Backblaze introduced both 10 TB and 12 TB hard drives into our data centers, we continued to retire 3 TB and 4 TB hard drives to increase storage density, a...</td>\n",
       "      <td>2017 Hard Drive Reliability by Drive Size and Brand</td>\n",
       "      <td>2017-10-29</td>\n",
       "      <td>hard drive stats introduced both tb tb hard drives into our data centers continued tb tb hard drives increase storage density added over data storage bring our total storage capacity update well r...</td>\n",
       "    </tr>\n",
       "    <tr>\n",
       "      <th>3</th>\n",
       "      <td>621036</td>\n",
       "      <td>2017-10-26 15:27:11</td>\n",
       "      <td>This is part 1 of the “How Unreal Renders a Frame” series, you can access part 2 and part 3 as well.I was looking around the Unreal source the other day and inspired by some excellent breakdowns o...</td>\n",
       "      <td>How Unreal Renders a Frame</td>\n",
       "      <td>2017-10-29</td>\n",
       "      <td>part how renders frame series access part part looking around source day inspired some excellent how popular games render frame thought try something similar well study how renders frame default a...</td>\n",
       "    </tr>\n",
       "    <tr>\n",
       "      <th>4</th>\n",
       "      <td>621423</td>\n",
       "      <td>2017-10-26 16:02:00</td>\n",
       "      <td>Boeing builds towards its first space taxi testWhen NASA first named Boeing and SpaceX as recipients of the Commercial Crew Program, they originally aimed to end the agency's dependence on Russia ...</td>\n",
       "      <td>Boeing builds towards its first space taxi test</td>\n",
       "      <td>2017-10-29</td>\n",
       "      <td>builds towards first space taxi nasa first named spacex recipients commercial crew program originally aimed end agencys russia developing space technologies hard both companies had push first test...</td>\n",
       "    </tr>\n",
       "  </tbody>\n",
       "</table>\n",
       "</div>"
      ],
      "text/plain": [
       "    Index                date  \\\n",
       "0  621031 2017-10-26 15:00:54   \n",
       "1  621032 2017-10-26 00:00:00   \n",
       "2  621035 2017-10-26 14:41:12   \n",
       "3  621036 2017-10-26 15:27:11   \n",
       "4  621423 2017-10-26 16:02:00   \n",
       "\n",
       "                                                                                                                                                                                                      text  \\\n",
       "0  eBay launches visual search tools that let you shop using photos from your phone or web0eBay today is launching two new visual search tools that will allow online shoppers to use photos they snap,...   \n",
       "1  Monsanto Attacks Scientists After Studies Show Trouble For Its New Weedkiller : The SaltScientists are accusing the seed-and-pesticide giant Monsanto of denying the risks of its latest weedkilling...   \n",
       "2  Hard Drive Stats for Q3 2017In Q3 2017, Backblaze introduced both 10 TB and 12 TB hard drives into our data centers, we continued to retire 3 TB and 4 TB hard drives to increase storage density, a...   \n",
       "3  This is part 1 of the “How Unreal Renders a Frame” series, you can access part 2 and part 3 as well.I was looking around the Unreal source the other day and inspired by some excellent breakdowns o...   \n",
       "4  Boeing builds towards its first space taxi testWhen NASA first named Boeing and SpaceX as recipients of the Commercial Crew Program, they originally aimed to end the agency's dependence on Russia ...   \n",
       "\n",
       "                                                                                     title  \\\n",
       "0  eBay launches visual search tools that let you shop using photos from your phone or web   \n",
       "1            Monsanto Attacks Scientists After Studies Show Trouble For Its New Weedkiller   \n",
       "2                                      2017 Hard Drive Reliability by Drive Size and Brand   \n",
       "3                                                               How Unreal Renders a Frame   \n",
       "4                                          Boeing builds towards its first space taxi test   \n",
       "\n",
       "        week  \\\n",
       "0 2017-10-29   \n",
       "1 2017-10-29   \n",
       "2 2017-10-29   \n",
       "3 2017-10-29   \n",
       "4 2017-10-29   \n",
       "\n",
       "                                                                                                                                                                                                clean_text  \n",
       "0  ebay launches visual search tools let shop using photos your phone today launching two visual search tools allow online shoppers use photos snap saved phone even those find while browsing web soci...  \n",
       "1  attacks scientists after studies show trouble accusing giant denying risks latest responded attacking some scientific attacks scientists after studies show trouble scott expert university research...  \n",
       "2  hard drive stats introduced both tb tb hard drives into our data centers continued tb tb hard drives increase storage density added over data storage bring our total storage capacity update well r...  \n",
       "3  part how renders frame series access part part looking around source day inspired some excellent how popular games render frame thought try something similar well study how renders frame default a...  \n",
       "4  builds towards first space taxi nasa first named spacex recipients commercial crew program originally aimed end agencys russia developing space technologies hard both companies had push first test...  "
      ]
     },
     "execution_count": 36,
     "metadata": {},
     "output_type": "execute_result"
    }
   ],
   "source": [
    "vocab = frozenset(cv.vocabulary_) # for speed\n",
    "\n",
    "# split text into list of tokens then\n",
    "# filter words not in the vocab then\n",
    "# join words\n",
    "df[\"clean_text\"] = df[\"clean_text\"].str.split().apply(lambda wordlist : [word for word in wordlist if word in vocab]).apply(\" \".join)\n",
    "\n",
    "df.head()"
   ]
  },
  {
   "cell_type": "markdown",
   "metadata": {},
   "source": [
    "# Save Data for next steps"
   ]
  },
  {
   "cell_type": "code",
   "execution_count": 37,
   "metadata": {},
   "outputs": [],
   "source": [
    "df.to_csv(\"data/sample_5000_clean.csv\")"
   ]
  },
  {
   "cell_type": "markdown",
   "metadata": {},
   "source": [
    "# Summary\n",
    "\n",
    "- 1. Loaded Data\n",
    "- 2. Got to know Data\n",
    "    - 2.1 Distributions\n",
    "    - 2.2 frequent words and stuff\n",
    "- 3. Clean Data\n",
    "    - 3.1 remove weird characters\n",
    "    - 3.2 stopwords\n",
    "    - 3.3 popularity based prefiltering\n",
    "    - 3.4 lemmatization / stemming\n",
    "- 4. Tokenize Data\n",
    "- 5. Save preprocessed data"
   ]
  },
  {
   "cell_type": "code",
   "execution_count": 47,
   "metadata": {},
   "outputs": [
    {
     "data": {
      "text/plain": [
       "\u001b[1;31mType:\u001b[0m        CountVectorizer\n",
       "\u001b[1;31mString form:\u001b[0m\n",
       "CountVectorizer(analyzer='word', binary=False, decode_error='strict',\n",
       "           dtype=<clas <...>               token_pattern='(?u)\\\\b\\\\w\\\\w+\\\\b', tokenizer=None,\n",
       "           vocabulary=None)\n",
       "\u001b[1;31mFile:\u001b[0m        c:\\program files (x86)\\anaconda3\\envs\\py37\\lib\\site-packages\\sklearn\\feature_extraction\\text.py\n",
       "\u001b[1;31mDocstring:\u001b[0m  \n",
       "Convert a collection of text documents to a matrix of token counts\n",
       "\n",
       "This implementation produces a sparse representation of the counts using\n",
       "scipy.sparse.csr_matrix.\n",
       "\n",
       "If you do not provide an a-priori dictionary and you do not use an analyzer\n",
       "that does some kind of feature selection then the number of features will\n",
       "be equal to the vocabulary size found by analyzing the data.\n",
       "\n",
       "Read more in the :ref:`User Guide <text_feature_extraction>`.\n",
       "\n",
       "Parameters\n",
       "----------\n",
       "input : string {'filename', 'file', 'content'}\n",
       "    If 'filename', the sequence passed as an argument to fit is\n",
       "    expected to be a list of filenames that need reading to fetch\n",
       "    the raw content to analyze.\n",
       "\n",
       "    If 'file', the sequence items must have a 'read' method (file-like\n",
       "    object) that is called to fetch the bytes in memory.\n",
       "\n",
       "    Otherwise the input is expected to be a sequence of items that\n",
       "    can be of type string or byte.\n",
       "\n",
       "encoding : string, 'utf-8' by default.\n",
       "    If bytes or files are given to analyze, this encoding is used to\n",
       "    decode.\n",
       "\n",
       "decode_error : {'strict', 'ignore', 'replace'}\n",
       "    Instruction on what to do if a byte sequence is given to analyze that\n",
       "    contains characters not of the given `encoding`. By default, it is\n",
       "    'strict', meaning that a UnicodeDecodeError will be raised. Other\n",
       "    values are 'ignore' and 'replace'.\n",
       "\n",
       "strip_accents : {'ascii', 'unicode', None}\n",
       "    Remove accents and perform other character normalization\n",
       "    during the preprocessing step.\n",
       "    'ascii' is a fast method that only works on characters that have\n",
       "    an direct ASCII mapping.\n",
       "    'unicode' is a slightly slower method that works on any characters.\n",
       "    None (default) does nothing.\n",
       "\n",
       "    Both 'ascii' and 'unicode' use NFKD normalization from\n",
       "    :func:`unicodedata.normalize`.\n",
       "\n",
       "lowercase : boolean, True by default\n",
       "    Convert all characters to lowercase before tokenizing.\n",
       "\n",
       "preprocessor : callable or None (default)\n",
       "    Override the preprocessing (string transformation) stage while\n",
       "    preserving the tokenizing and n-grams generation steps.\n",
       "    Only applies if ``analyzer is not callable``.\n",
       "\n",
       "tokenizer : callable or None (default)\n",
       "    Override the string tokenization step while preserving the\n",
       "    preprocessing and n-grams generation steps.\n",
       "    Only applies if ``analyzer == 'word'``.\n",
       "\n",
       "stop_words : string {'english'}, list, or None (default)\n",
       "    If 'english', a built-in stop word list for English is used.\n",
       "    There are several known issues with 'english' and you should\n",
       "    consider an alternative (see :ref:`stop_words`).\n",
       "\n",
       "    If a list, that list is assumed to contain stop words, all of which\n",
       "    will be removed from the resulting tokens.\n",
       "    Only applies if ``analyzer == 'word'``.\n",
       "\n",
       "    If None, no stop words will be used. max_df can be set to a value\n",
       "    in the range [0.7, 1.0) to automatically detect and filter stop\n",
       "    words based on intra corpus document frequency of terms.\n",
       "\n",
       "token_pattern : string\n",
       "    Regular expression denoting what constitutes a \"token\", only used\n",
       "    if ``analyzer == 'word'``. The default regexp select tokens of 2\n",
       "    or more alphanumeric characters (punctuation is completely ignored\n",
       "    and always treated as a token separator).\n",
       "\n",
       "ngram_range : tuple (min_n, max_n), default=(1, 1)\n",
       "    The lower and upper boundary of the range of n-values for different\n",
       "    word n-grams or char n-grams to be extracted. All values of n such\n",
       "    such that min_n <= n <= max_n will be used. For example an\n",
       "    ``ngram_range`` of ``(1, 1)`` means only unigrams, ``(1, 2)`` means\n",
       "    unigrams and bigrams, and ``(2, 2)`` means only bigrams.\n",
       "    Only applies if ``analyzer is not callable``.\n",
       "\n",
       "analyzer : string, {'word', 'char', 'char_wb'} or callable\n",
       "    Whether the feature should be made of word n-gram or character\n",
       "    n-grams.\n",
       "    Option 'char_wb' creates character n-grams only from text inside\n",
       "    word boundaries; n-grams at the edges of words are padded with space.\n",
       "\n",
       "    If a callable is passed it is used to extract the sequence of features\n",
       "    out of the raw, unprocessed input.\n",
       "\n",
       "    .. versionchanged:: 0.21\n",
       "\n",
       "    Since v0.21, if ``input`` is ``filename`` or ``file``, the data is\n",
       "    first read from the file and then passed to the given callable\n",
       "    analyzer.\n",
       "\n",
       "max_df : float in range [0.0, 1.0] or int, default=1.0\n",
       "    When building the vocabulary ignore terms that have a document\n",
       "    frequency strictly higher than the given threshold (corpus-specific\n",
       "    stop words).\n",
       "    If float, the parameter represents a proportion of documents, integer\n",
       "    absolute counts.\n",
       "    This parameter is ignored if vocabulary is not None.\n",
       "\n",
       "min_df : float in range [0.0, 1.0] or int, default=1\n",
       "    When building the vocabulary ignore terms that have a document\n",
       "    frequency strictly lower than the given threshold. This value is also\n",
       "    called cut-off in the literature.\n",
       "    If float, the parameter represents a proportion of documents, integer\n",
       "    absolute counts.\n",
       "    This parameter is ignored if vocabulary is not None.\n",
       "\n",
       "max_features : int or None, default=None\n",
       "    If not None, build a vocabulary that only consider the top\n",
       "    max_features ordered by term frequency across the corpus.\n",
       "\n",
       "    This parameter is ignored if vocabulary is not None.\n",
       "\n",
       "vocabulary : Mapping or iterable, optional\n",
       "    Either a Mapping (e.g., a dict) where keys are terms and values are\n",
       "    indices in the feature matrix, or an iterable over terms. If not\n",
       "    given, a vocabulary is determined from the input documents. Indices\n",
       "    in the mapping should not be repeated and should not have any gap\n",
       "    between 0 and the largest index.\n",
       "\n",
       "binary : boolean, default=False\n",
       "    If True, all non zero counts are set to 1. This is useful for discrete\n",
       "    probabilistic models that model binary events rather than integer\n",
       "    counts.\n",
       "\n",
       "dtype : type, optional\n",
       "    Type of the matrix returned by fit_transform() or transform().\n",
       "\n",
       "Attributes\n",
       "----------\n",
       "vocabulary_ : dict\n",
       "    A mapping of terms to feature indices.\n",
       "\n",
       "fixed_vocabulary_: boolean\n",
       "    True if a fixed vocabulary of term to indices mapping\n",
       "    is provided by the user\n",
       "\n",
       "stop_words_ : set\n",
       "    Terms that were ignored because they either:\n",
       "\n",
       "      - occurred in too many documents (`max_df`)\n",
       "      - occurred in too few documents (`min_df`)\n",
       "      - were cut off by feature selection (`max_features`).\n",
       "\n",
       "    This is only available if no vocabulary was given.\n",
       "\n",
       "Examples\n",
       "--------\n",
       ">>> from sklearn.feature_extraction.text import CountVectorizer\n",
       ">>> corpus = [\n",
       "...     'This is the first document.',\n",
       "...     'This document is the second document.',\n",
       "...     'And this is the third one.',\n",
       "...     'Is this the first document?',\n",
       "... ]\n",
       ">>> vectorizer = CountVectorizer()\n",
       ">>> X = vectorizer.fit_transform(corpus)\n",
       ">>> print(vectorizer.get_feature_names())\n",
       "['and', 'document', 'first', 'is', 'one', 'second', 'the', 'third', 'this']\n",
       ">>> print(X.toarray())\n",
       "[[0 1 1 1 0 0 1 0 1]\n",
       " [0 2 0 1 0 1 1 0 1]\n",
       " [1 0 0 1 1 0 1 1 1]\n",
       " [0 1 1 1 0 0 1 0 1]]\n",
       ">>> vectorizer2 = CountVectorizer(analyzer='word', ngram_range=(2, 2))\n",
       ">>> X2 = vectorizer2.fit_transform(corpus)\n",
       ">>> print(vectorizer2.get_feature_names())\n",
       "['and this', 'document is', 'first document', 'is the', 'is this',\n",
       "'second document', 'the first', 'the second', 'the third', 'third one',\n",
       " 'this document', 'this is', 'this the']\n",
       " >>> print(X2.toarray())\n",
       " [[0 0 1 1 0 0 1 0 0 0 0 1 0]\n",
       " [0 1 0 1 0 1 0 1 0 0 1 0 0]\n",
       " [1 0 0 1 0 0 0 0 1 1 0 1 0]\n",
       " [0 0 1 0 1 0 1 0 0 0 0 0 1]]\n",
       "\n",
       "See Also\n",
       "--------\n",
       "HashingVectorizer, TfidfVectorizer\n",
       "\n",
       "Notes\n",
       "-----\n",
       "The ``stop_words_`` attribute can get large and increase the model size\n",
       "when pickling. This attribute is provided only for introspection and can\n",
       "be safely removed using delattr or set to None before pickling.\n"
      ]
     },
     "metadata": {},
     "output_type": "display_data"
    }
   ],
   "source": [
    "?cv"
   ]
  },
  {
   "cell_type": "code",
   "execution_count": null,
   "metadata": {},
   "outputs": [],
   "source": []
  }
 ],
 "metadata": {
  "kernelspec": {
   "display_name": "py37",
   "language": "python",
   "name": "py37"
  },
  "language_info": {
   "codemirror_mode": {
    "name": "ipython",
    "version": 3
   },
   "file_extension": ".py",
   "mimetype": "text/x-python",
   "name": "python",
   "nbconvert_exporter": "python",
   "pygments_lexer": "ipython3",
   "version": "3.7.6"
  }
 },
 "nbformat": 4,
 "nbformat_minor": 4
}

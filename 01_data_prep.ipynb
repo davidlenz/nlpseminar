{
 "cells": [
  {
   "cell_type": "markdown",
   "metadata": {},
   "source": [
    "- 1. Load Data\n",
    "- 2. Get to know Data\n",
    "- 3. Clean Data\n",
    "    - 3.1 remove weird characters\n",
    "    - 3.2 stopwords\n",
    "    - 3.3 popularity based prefiltering\n",
    "    - 3.4 lemmatization / stemming\n",
    "- 4. Tokenize Data\n",
    "- 5. Save preprocessed data"
   ]
  },
  {
   "cell_type": "markdown",
   "metadata": {},
   "source": [
    "# ---------------------------------------------------------------------- #\n",
    "# 1. Load Data\n",
    "\n",
    "Raw data is gathered from [newsapi](https://newsapi.org/).\n",
    "\n",
    "### Newsapi:"
   ]
  },
  {
   "cell_type": "code",
   "execution_count": null,
   "metadata": {},
   "outputs": [],
   "source": [
    "from IPython.display import IFrame    \n",
    "display(IFrame(\"https://newsapi.org/\", width=1200, height=350))"
   ]
  },
  {
   "cell_type": "markdown",
   "metadata": {},
   "source": [
    "We use [pandas](https://pandas.pydata.org/) to generally handle the data.\n",
    "\n",
    "### Pandas:"
   ]
  },
  {
   "cell_type": "code",
   "execution_count": null,
   "metadata": {},
   "outputs": [],
   "source": [
    "display(IFrame(\"https://pandas.pydata.org/\", width=1200, height=350))"
   ]
  },
  {
   "cell_type": "code",
   "execution_count": 3,
   "metadata": {},
   "outputs": [],
   "source": [
    "import pandas as pd\n",
    "pd.set_option(\"max.colwidth\", 400)\n",
    "df = pd.read_csv('data/sample_5000.csv', index_col=\"Unnamed: 0\")"
   ]
  },
  {
   "cell_type": "markdown",
   "metadata": {},
   "source": [
    "# 2. Get to know Data"
   ]
  },
  {
   "cell_type": "code",
   "execution_count": 4,
   "metadata": {},
   "outputs": [
    {
     "name": "stdout",
     "output_type": "stream",
     "text": [
      "Shape: (5000, 4)\n"
     ]
    },
    {
     "data": {
      "text/html": [
       "<div>\n",
       "<style scoped>\n",
       "    .dataframe tbody tr th:only-of-type {\n",
       "        vertical-align: middle;\n",
       "    }\n",
       "\n",
       "    .dataframe tbody tr th {\n",
       "        vertical-align: top;\n",
       "    }\n",
       "\n",
       "    .dataframe thead th {\n",
       "        text-align: right;\n",
       "    }\n",
       "</style>\n",
       "<table border=\"1\" class=\"dataframe\">\n",
       "  <thead>\n",
       "    <tr style=\"text-align: right;\">\n",
       "      <th></th>\n",
       "      <th>Index</th>\n",
       "      <th>date</th>\n",
       "      <th>text</th>\n",
       "      <th>title</th>\n",
       "    </tr>\n",
       "  </thead>\n",
       "  <tbody>\n",
       "    <tr>\n",
       "      <th>5038</th>\n",
       "      <td>621031</td>\n",
       "      <td>2017-10-26 15:00:54</td>\n",
       "      <td>eBay launches visual search tools that let you shop using photos from your phone or web0eBay today is launching two new visual search tools that will allow online shoppers to use photos they snap, have saved on their phone, or even those they find while browsing the web or other social networking sites, in order to find matching products from eBay’s catalog. The tools, Image Search and Find it...</td>\n",
       "      <td>eBay launches visual search tools that let you shop using photos from your phone or web</td>\n",
       "    </tr>\n",
       "    <tr>\n",
       "      <th>5039</th>\n",
       "      <td>621032</td>\n",
       "      <td>2017-10-26 00:00:00</td>\n",
       "      <td>Monsanto Attacks Scientists After Studies Show Trouble For Its New Weedkiller : The SaltScientists are accusing the seed-and-pesticide giant Monsanto of denying the risks of its latest weedkilling technology. Monsanto has responded by attacking some of its scientific critics.Monsanto Attacks Scientists After Studies Show Trouble For Its New WeedkillerBob Scott, an expert on weeds with the Univ...</td>\n",
       "      <td>Monsanto Attacks Scientists After Studies Show Trouble For Its New Weedkiller</td>\n",
       "    </tr>\n",
       "    <tr>\n",
       "      <th>5040</th>\n",
       "      <td>621035</td>\n",
       "      <td>2017-10-26 14:41:12</td>\n",
       "      <td>Hard Drive Stats for Q3 2017In Q3 2017, Backblaze introduced both 10 TB and 12 TB hard drives into our data centers, we continued to retire 3 TB and 4 TB hard drives to increase storage density, and we added over 59 petabytes of data storage to bring our total storage capacity to 400 petabytes.In this update, we’ll review the Q3 2017 and lifetime hard drive failure rates for all our drive mode...</td>\n",
       "      <td>2017 Hard Drive Reliability by Drive Size and Brand</td>\n",
       "    </tr>\n",
       "    <tr>\n",
       "      <th>5041</th>\n",
       "      <td>621036</td>\n",
       "      <td>2017-10-26 15:27:11</td>\n",
       "      <td>This is part 1 of the “How Unreal Renders a Frame” series, you can access part 2 and part 3 as well.I was looking around the Unreal source the other day and inspired by some excellent breakdowns of how popular games render a frame, I thought to try something similar with it as well, to study how it renders a frame (with the default settings/scene setup).Since we have access to the source code,...</td>\n",
       "      <td>How Unreal Renders a Frame</td>\n",
       "    </tr>\n",
       "    <tr>\n",
       "      <th>5042</th>\n",
       "      <td>621423</td>\n",
       "      <td>2017-10-26 16:02:00</td>\n",
       "      <td>Boeing builds towards its first space taxi testWhen NASA first named Boeing and SpaceX as recipients of the Commercial Crew Program, they originally aimed to end the agency's dependence on Russia by 2017. But developing space technologies is hard, and both companies had to push their first crewed test flights to late 2018 -- some reports even say they'll be delayed until 2019. While it's still...</td>\n",
       "      <td>Boeing builds towards its first space taxi test</td>\n",
       "    </tr>\n",
       "  </tbody>\n",
       "</table>\n",
       "</div>"
      ],
      "text/plain": [
       "       Index                 date  \\\n",
       "5038  621031  2017-10-26 15:00:54   \n",
       "5039  621032  2017-10-26 00:00:00   \n",
       "5040  621035  2017-10-26 14:41:12   \n",
       "5041  621036  2017-10-26 15:27:11   \n",
       "5042  621423  2017-10-26 16:02:00   \n",
       "\n",
       "                                                                                                                                                                                                                                                                                                                                                                                                                 text  \\\n",
       "5038  eBay launches visual search tools that let you shop using photos from your phone or web0eBay today is launching two new visual search tools that will allow online shoppers to use photos they snap, have saved on their phone, or even those they find while browsing the web or other social networking sites, in order to find matching products from eBay’s catalog. The tools, Image Search and Find it...   \n",
       "5039  Monsanto Attacks Scientists After Studies Show Trouble For Its New Weedkiller : The SaltScientists are accusing the seed-and-pesticide giant Monsanto of denying the risks of its latest weedkilling technology. Monsanto has responded by attacking some of its scientific critics.Monsanto Attacks Scientists After Studies Show Trouble For Its New WeedkillerBob Scott, an expert on weeds with the Univ...   \n",
       "5040  Hard Drive Stats for Q3 2017In Q3 2017, Backblaze introduced both 10 TB and 12 TB hard drives into our data centers, we continued to retire 3 TB and 4 TB hard drives to increase storage density, and we added over 59 petabytes of data storage to bring our total storage capacity to 400 petabytes.In this update, we’ll review the Q3 2017 and lifetime hard drive failure rates for all our drive mode...   \n",
       "5041  This is part 1 of the “How Unreal Renders a Frame” series, you can access part 2 and part 3 as well.I was looking around the Unreal source the other day and inspired by some excellent breakdowns of how popular games render a frame, I thought to try something similar with it as well, to study how it renders a frame (with the default settings/scene setup).Since we have access to the source code,...   \n",
       "5042  Boeing builds towards its first space taxi testWhen NASA first named Boeing and SpaceX as recipients of the Commercial Crew Program, they originally aimed to end the agency's dependence on Russia by 2017. But developing space technologies is hard, and both companies had to push their first crewed test flights to late 2018 -- some reports even say they'll be delayed until 2019. While it's still...   \n",
       "\n",
       "                                                                                        title  \n",
       "5038  eBay launches visual search tools that let you shop using photos from your phone or web  \n",
       "5039            Monsanto Attacks Scientists After Studies Show Trouble For Its New Weedkiller  \n",
       "5040                                      2017 Hard Drive Reliability by Drive Size and Brand  \n",
       "5041                                                               How Unreal Renders a Frame  \n",
       "5042                                          Boeing builds towards its first space taxi test  "
      ]
     },
     "execution_count": 4,
     "metadata": {},
     "output_type": "execute_result"
    }
   ],
   "source": [
    "print(\"Shape:\", df.shape)\n",
    "df.head()"
   ]
  },
  {
   "cell_type": "code",
   "execution_count": 5,
   "metadata": {},
   "outputs": [
    {
     "data": {
      "text/html": [
       "<div>\n",
       "<style scoped>\n",
       "    .dataframe tbody tr th:only-of-type {\n",
       "        vertical-align: middle;\n",
       "    }\n",
       "\n",
       "    .dataframe tbody tr th {\n",
       "        vertical-align: top;\n",
       "    }\n",
       "\n",
       "    .dataframe thead th {\n",
       "        text-align: right;\n",
       "    }\n",
       "</style>\n",
       "<table border=\"1\" class=\"dataframe\">\n",
       "  <thead>\n",
       "    <tr style=\"text-align: right;\">\n",
       "      <th></th>\n",
       "      <th>Index</th>\n",
       "      <th>date</th>\n",
       "      <th>text</th>\n",
       "      <th>title</th>\n",
       "    </tr>\n",
       "  </thead>\n",
       "  <tbody>\n",
       "    <tr>\n",
       "      <th>8944</th>\n",
       "      <td>3215186</td>\n",
       "      <td>2018-01-24 14:41:30</td>\n",
       "      <td>In the latest indication of Apple’s growing ambitions in the digital health market, the tech giant on Wednesday unveiled a new feature that would allow users to automatically download and see parts of their medical records on their iPhones.The feature is to become part of Apple’s popular Health app. It will enable users to transfer clinical data — like cholesterol levels and lists of medicatio...</td>\n",
       "      <td>Apple, in Sign of Health Ambitions, Adds Medical Records Feature for iPhone</td>\n",
       "    </tr>\n",
       "    <tr>\n",
       "      <th>5478</th>\n",
       "      <td>699331</td>\n",
       "      <td>2017-11-11 13:00:00</td>\n",
       "      <td>The Morning After: Weekend EditionThe weekend has landed. If you're already holiday shopping, you're a smarter person than I. Engadget can help, as we kicked off our gift guide this week. We've also showcased some of the experiences that will be premiering at the Engadget Experience, which kicks off next Tuesday. The FBI was struggling to unlock criminals' phones again, and we all learn that a...</td>\n",
       "      <td>The Morning After: Weekend Edition</td>\n",
       "    </tr>\n",
       "  </tbody>\n",
       "</table>\n",
       "</div>"
      ],
      "text/plain": [
       "        Index                 date  \\\n",
       "8944  3215186  2018-01-24 14:41:30   \n",
       "5478   699331  2017-11-11 13:00:00   \n",
       "\n",
       "                                                                                                                                                                                                                                                                                                                                                                                                                 text  \\\n",
       "8944  In the latest indication of Apple’s growing ambitions in the digital health market, the tech giant on Wednesday unveiled a new feature that would allow users to automatically download and see parts of their medical records on their iPhones.The feature is to become part of Apple’s popular Health app. It will enable users to transfer clinical data — like cholesterol levels and lists of medicatio...   \n",
       "5478  The Morning After: Weekend EditionThe weekend has landed. If you're already holiday shopping, you're a smarter person than I. Engadget can help, as we kicked off our gift guide this week. We've also showcased some of the experiences that will be premiering at the Engadget Experience, which kicks off next Tuesday. The FBI was struggling to unlock criminals' phones again, and we all learn that a...   \n",
       "\n",
       "                                                                            title  \n",
       "8944  Apple, in Sign of Health Ambitions, Adds Medical Records Feature for iPhone  \n",
       "5478                                           The Morning After: Weekend Edition  "
      ]
     },
     "execution_count": 5,
     "metadata": {},
     "output_type": "execute_result"
    }
   ],
   "source": [
    "df.sample(2)"
   ]
  },
  {
   "cell_type": "markdown",
   "metadata": {},
   "source": [
    "### Datatypes"
   ]
  },
  {
   "cell_type": "code",
   "execution_count": 6,
   "metadata": {},
   "outputs": [
    {
     "data": {
      "text/html": [
       "\n",
       "        <iframe\n",
       "            width=\"1200\"\n",
       "            height=\"150\"\n",
       "            src=\"https://www.tutorialsteacher.com/python/python-data-types\"\n",
       "            frameborder=\"0\"\n",
       "            allowfullscreen\n",
       "        ></iframe>\n",
       "        "
      ],
      "text/plain": [
       "<IPython.lib.display.IFrame at 0x1eedb210588>"
      ]
     },
     "metadata": {},
     "output_type": "display_data"
    }
   ],
   "source": [
    "display(IFrame(\"https://www.tutorialsteacher.com/python/python-data-types\", width=1200, height=150))"
   ]
  },
  {
   "cell_type": "code",
   "execution_count": 7,
   "metadata": {},
   "outputs": [
    {
     "data": {
      "text/plain": [
       "Index     int64\n",
       "date     object\n",
       "text     object\n",
       "title    object\n",
       "dtype: object"
      ]
     },
     "execution_count": 7,
     "metadata": {},
     "output_type": "execute_result"
    }
   ],
   "source": [
    "df.dtypes"
   ]
  },
  {
   "cell_type": "markdown",
   "metadata": {},
   "source": [
    "### Data distribution\n",
    "\n",
    "First cast the date column, which is currently of object type, to datetime type."
   ]
  },
  {
   "cell_type": "code",
   "execution_count": 8,
   "metadata": {},
   "outputs": [
    {
     "data": {
      "text/plain": [
       "Index             int64\n",
       "date     datetime64[ns]\n",
       "text             object\n",
       "title            object\n",
       "dtype: object"
      ]
     },
     "execution_count": 8,
     "metadata": {},
     "output_type": "execute_result"
    }
   ],
   "source": [
    "df[\"date\"] = pd.to_datetime(df.date)\n",
    "df.dtypes"
   ]
  },
  {
   "cell_type": "markdown",
   "metadata": {},
   "source": [
    "Now cast the datetime object to the end/start of a period, for example end of week."
   ]
  },
  {
   "cell_type": "code",
   "execution_count": 9,
   "metadata": {},
   "outputs": [
    {
     "name": "stdout",
     "output_type": "stream",
     "text": [
      "Index             int64\n",
      "date     datetime64[ns]\n",
      "text             object\n",
      "title            object\n",
      "week     datetime64[ns]\n",
      "dtype: object\n"
     ]
    },
    {
     "data": {
      "text/html": [
       "<div>\n",
       "<style scoped>\n",
       "    .dataframe tbody tr th:only-of-type {\n",
       "        vertical-align: middle;\n",
       "    }\n",
       "\n",
       "    .dataframe tbody tr th {\n",
       "        vertical-align: top;\n",
       "    }\n",
       "\n",
       "    .dataframe thead th {\n",
       "        text-align: right;\n",
       "    }\n",
       "</style>\n",
       "<table border=\"1\" class=\"dataframe\">\n",
       "  <thead>\n",
       "    <tr style=\"text-align: right;\">\n",
       "      <th></th>\n",
       "      <th>Index</th>\n",
       "      <th>date</th>\n",
       "      <th>text</th>\n",
       "      <th>title</th>\n",
       "      <th>week</th>\n",
       "    </tr>\n",
       "  </thead>\n",
       "  <tbody>\n",
       "    <tr>\n",
       "      <th>5038</th>\n",
       "      <td>621031</td>\n",
       "      <td>2017-10-26 15:00:54</td>\n",
       "      <td>eBay launches visual search tools that let you shop using photos from your phone or web0eBay today is launching two new visual search tools that will allow online shoppers to use photos they snap, have saved on their phone, or even those they find while browsing the web or other social networking sites, in order to find matching products from eBay’s catalog. The tools, Image Search and Find it...</td>\n",
       "      <td>eBay launches visual search tools that let you shop using photos from your phone or web</td>\n",
       "      <td>2017-10-29</td>\n",
       "    </tr>\n",
       "    <tr>\n",
       "      <th>5039</th>\n",
       "      <td>621032</td>\n",
       "      <td>2017-10-26 00:00:00</td>\n",
       "      <td>Monsanto Attacks Scientists After Studies Show Trouble For Its New Weedkiller : The SaltScientists are accusing the seed-and-pesticide giant Monsanto of denying the risks of its latest weedkilling technology. Monsanto has responded by attacking some of its scientific critics.Monsanto Attacks Scientists After Studies Show Trouble For Its New WeedkillerBob Scott, an expert on weeds with the Univ...</td>\n",
       "      <td>Monsanto Attacks Scientists After Studies Show Trouble For Its New Weedkiller</td>\n",
       "      <td>2017-10-29</td>\n",
       "    </tr>\n",
       "  </tbody>\n",
       "</table>\n",
       "</div>"
      ],
      "text/plain": [
       "       Index                date  \\\n",
       "5038  621031 2017-10-26 15:00:54   \n",
       "5039  621032 2017-10-26 00:00:00   \n",
       "\n",
       "                                                                                                                                                                                                                                                                                                                                                                                                                 text  \\\n",
       "5038  eBay launches visual search tools that let you shop using photos from your phone or web0eBay today is launching two new visual search tools that will allow online shoppers to use photos they snap, have saved on their phone, or even those they find while browsing the web or other social networking sites, in order to find matching products from eBay’s catalog. The tools, Image Search and Find it...   \n",
       "5039  Monsanto Attacks Scientists After Studies Show Trouble For Its New Weedkiller : The SaltScientists are accusing the seed-and-pesticide giant Monsanto of denying the risks of its latest weedkilling technology. Monsanto has responded by attacking some of its scientific critics.Monsanto Attacks Scientists After Studies Show Trouble For Its New WeedkillerBob Scott, an expert on weeds with the Univ...   \n",
       "\n",
       "                                                                                        title  \\\n",
       "5038  eBay launches visual search tools that let you shop using photos from your phone or web   \n",
       "5039            Monsanto Attacks Scientists After Studies Show Trouble For Its New Weedkiller   \n",
       "\n",
       "           week  \n",
       "5038 2017-10-29  \n",
       "5039 2017-10-29  "
      ]
     },
     "execution_count": 9,
     "metadata": {},
     "output_type": "execute_result"
    }
   ],
   "source": [
    "df[\"week\"] = df.date.dt.to_period(\"W\").dt.to_timestamp('W')\n",
    "print(df.dtypes)\n",
    "df.head(2)"
   ]
  },
  {
   "cell_type": "code",
   "execution_count": 44,
   "metadata": {},
   "outputs": [
    {
     "data": {
      "text/plain": [
       "<matplotlib.axes._subplots.AxesSubplot at 0x1eefcf8f448>"
      ]
     },
     "execution_count": 44,
     "metadata": {},
     "output_type": "execute_result"
    },
    {
     "data": {
      "image/png": "[encoded data removed]",
      "text/plain": [
       "<Figure size 432x288 with 1 Axes>"
      ]
     },
     "metadata": {
      "needs_background": "light"
     },
     "output_type": "display_data"
    }
   ],
   "source": [
    "df.groupby(\"week\").title.count().plot(title=\"Number of articles per Week\")"
   ]
  },
  {
   "cell_type": "markdown",
   "metadata": {},
   "source": [
    "##### Number of words per article"
   ]
  },
  {
   "cell_type": "code",
   "execution_count": 11,
   "metadata": {},
   "outputs": [
    {
     "data": {
      "text/plain": [
       "count     5000.000000\n",
       "mean       908.503800\n",
       "std       1744.611774\n",
       "min         29.000000\n",
       "25%        298.000000\n",
       "50%        568.000000\n",
       "75%       1086.000000\n",
       "max      94980.000000\n",
       "Name: text, dtype: float64"
      ]
     },
     "execution_count": 11,
     "metadata": {},
     "output_type": "execute_result"
    }
   ],
   "source": [
    "df.text.str.split().apply(len).describe()"
   ]
  },
  {
   "cell_type": "code",
   "execution_count": 12,
   "metadata": {},
   "outputs": [
    {
     "data": {
      "text/plain": [
       "<matplotlib.axes._subplots.AxesSubplot at 0x1eed8ec9dc8>"
      ]
     },
     "execution_count": 12,
     "metadata": {},
     "output_type": "execute_result"
    },
    {
     "data": {
      "image/png": "[encoded data removed]",
      "text/plain": [
       "<Figure size 432x288 with 1 Axes>"
      ]
     },
     "metadata": {
      "needs_background": "light"
     },
     "output_type": "display_data"
    }
   ],
   "source": [
    "df.text.str.split().apply(len).plot(kind=\"hist\", bins=3330, xlim=(0,5000))"
   ]
  },
  {
   "cell_type": "markdown",
   "metadata": {},
   "source": [
    "## Clean Data"
   ]
  },
  {
   "cell_type": "code",
   "execution_count": 13,
   "metadata": {},
   "outputs": [
    {
     "name": "stdout",
     "output_type": "stream",
     "text": [
      "Wall time: 444 ms\n"
     ]
    },
    {
     "data": {
      "text/html": [
       "<div>\n",
       "<style scoped>\n",
       "    .dataframe tbody tr th:only-of-type {\n",
       "        vertical-align: middle;\n",
       "    }\n",
       "\n",
       "    .dataframe tbody tr th {\n",
       "        vertical-align: top;\n",
       "    }\n",
       "\n",
       "    .dataframe thead th {\n",
       "        text-align: right;\n",
       "    }\n",
       "</style>\n",
       "<table border=\"1\" class=\"dataframe\">\n",
       "  <thead>\n",
       "    <tr style=\"text-align: right;\">\n",
       "      <th></th>\n",
       "      <th>Index</th>\n",
       "      <th>date</th>\n",
       "      <th>text</th>\n",
       "      <th>title</th>\n",
       "      <th>week</th>\n",
       "      <th>clean_text</th>\n",
       "    </tr>\n",
       "  </thead>\n",
       "  <tbody>\n",
       "    <tr>\n",
       "      <th>5038</th>\n",
       "      <td>621031</td>\n",
       "      <td>2017-10-26 15:00:54</td>\n",
       "      <td>eBay launches visual search tools that let you shop using photos from your phone or web0eBay today is launching two new visual search tools that will allow online shoppers to use photos they snap, have saved on their phone, or even those they find while browsing the web or other social networking sites, in order to find matching products from eBay’s catalog. The tools, Image Search and Find it...</td>\n",
       "      <td>eBay launches visual search tools that let you shop using photos from your phone or web</td>\n",
       "      <td>2017-10-29</td>\n",
       "      <td>ebay launches visual search tools that let you shop using photos from your phone or webebay today is launching two new visual search tools that will allow online shoppers to use photos they snap have saved on their phone or even those they find while browsing the web or other social networking sites in order to find matching products from ebays catalog. the tools image search and find it on eb...</td>\n",
       "    </tr>\n",
       "    <tr>\n",
       "      <th>5039</th>\n",
       "      <td>621032</td>\n",
       "      <td>2017-10-26 00:00:00</td>\n",
       "      <td>Monsanto Attacks Scientists After Studies Show Trouble For Its New Weedkiller : The SaltScientists are accusing the seed-and-pesticide giant Monsanto of denying the risks of its latest weedkilling technology. Monsanto has responded by attacking some of its scientific critics.Monsanto Attacks Scientists After Studies Show Trouble For Its New WeedkillerBob Scott, an expert on weeds with the Univ...</td>\n",
       "      <td>Monsanto Attacks Scientists After Studies Show Trouble For Its New Weedkiller</td>\n",
       "      <td>2017-10-29</td>\n",
       "      <td>monsanto attacks scientists after studies show trouble for its new weedkiller  the saltscientists are accusing the seedandpesticide giant monsanto of denying the risks of its latest weedkilling technology. monsanto has responded by attacking some of its scientific critics.monsanto attacks scientists after studies show trouble for its new weedkillerbob scott an expert on weeds with the universi...</td>\n",
       "    </tr>\n",
       "    <tr>\n",
       "      <th>5040</th>\n",
       "      <td>621035</td>\n",
       "      <td>2017-10-26 14:41:12</td>\n",
       "      <td>Hard Drive Stats for Q3 2017In Q3 2017, Backblaze introduced both 10 TB and 12 TB hard drives into our data centers, we continued to retire 3 TB and 4 TB hard drives to increase storage density, and we added over 59 petabytes of data storage to bring our total storage capacity to 400 petabytes.In this update, we’ll review the Q3 2017 and lifetime hard drive failure rates for all our drive mode...</td>\n",
       "      <td>2017 Hard Drive Reliability by Drive Size and Brand</td>\n",
       "      <td>2017-10-29</td>\n",
       "      <td>hard drive stats for q in q  backblaze introduced both  tb and  tb hard drives into our data centers we continued to retire  tb and  tb hard drives to increase storage density and we added over  petabytes of data storage to bring our total storage capacity to  petabytes.in this update well review the q  and lifetime hard drive failure rates for all our drive models in use at the end of q. well...</td>\n",
       "    </tr>\n",
       "    <tr>\n",
       "      <th>5041</th>\n",
       "      <td>621036</td>\n",
       "      <td>2017-10-26 15:27:11</td>\n",
       "      <td>This is part 1 of the “How Unreal Renders a Frame” series, you can access part 2 and part 3 as well.I was looking around the Unreal source the other day and inspired by some excellent breakdowns of how popular games render a frame, I thought to try something similar with it as well, to study how it renders a frame (with the default settings/scene setup).Since we have access to the source code,...</td>\n",
       "      <td>How Unreal Renders a Frame</td>\n",
       "      <td>2017-10-29</td>\n",
       "      <td>this is part  of the how unreal renders a frame series you can access part  and part  as well.i was looking around the unreal source the other day and inspired by some excellent breakdowns of how popular games render a frame i thought to try something similar with it as well to study how it renders a frame with the default settingsscene setup.since we have access to the source code it is possi...</td>\n",
       "    </tr>\n",
       "    <tr>\n",
       "      <th>5042</th>\n",
       "      <td>621423</td>\n",
       "      <td>2017-10-26 16:02:00</td>\n",
       "      <td>Boeing builds towards its first space taxi testWhen NASA first named Boeing and SpaceX as recipients of the Commercial Crew Program, they originally aimed to end the agency's dependence on Russia by 2017. But developing space technologies is hard, and both companies had to push their first crewed test flights to late 2018 -- some reports even say they'll be delayed until 2019. While it's still...</td>\n",
       "      <td>Boeing builds towards its first space taxi test</td>\n",
       "      <td>2017-10-29</td>\n",
       "      <td>boeing builds towards its first space taxi testwhen nasa first named boeing and spacex as recipients of the commercial crew program they originally aimed to end the agencys dependence on russia by . but developing space technologies is hard and both companies had to push their first crewed test flights to late   some reports even say theyll be delayed until . while its still unclear when well ...</td>\n",
       "    </tr>\n",
       "  </tbody>\n",
       "</table>\n",
       "</div>"
      ],
      "text/plain": [
       "       Index                date  \\\n",
       "5038  621031 2017-10-26 15:00:54   \n",
       "5039  621032 2017-10-26 00:00:00   \n",
       "5040  621035 2017-10-26 14:41:12   \n",
       "5041  621036 2017-10-26 15:27:11   \n",
       "5042  621423 2017-10-26 16:02:00   \n",
       "\n",
       "                                                                                                                                                                                                                                                                                                                                                                                                                 text  \\\n",
       "5038  eBay launches visual search tools that let you shop using photos from your phone or web0eBay today is launching two new visual search tools that will allow online shoppers to use photos they snap, have saved on their phone, or even those they find while browsing the web or other social networking sites, in order to find matching products from eBay’s catalog. The tools, Image Search and Find it...   \n",
       "5039  Monsanto Attacks Scientists After Studies Show Trouble For Its New Weedkiller : The SaltScientists are accusing the seed-and-pesticide giant Monsanto of denying the risks of its latest weedkilling technology. Monsanto has responded by attacking some of its scientific critics.Monsanto Attacks Scientists After Studies Show Trouble For Its New WeedkillerBob Scott, an expert on weeds with the Univ...   \n",
       "5040  Hard Drive Stats for Q3 2017In Q3 2017, Backblaze introduced both 10 TB and 12 TB hard drives into our data centers, we continued to retire 3 TB and 4 TB hard drives to increase storage density, and we added over 59 petabytes of data storage to bring our total storage capacity to 400 petabytes.In this update, we’ll review the Q3 2017 and lifetime hard drive failure rates for all our drive mode...   \n",
       "5041  This is part 1 of the “How Unreal Renders a Frame” series, you can access part 2 and part 3 as well.I was looking around the Unreal source the other day and inspired by some excellent breakdowns of how popular games render a frame, I thought to try something similar with it as well, to study how it renders a frame (with the default settings/scene setup).Since we have access to the source code,...   \n",
       "5042  Boeing builds towards its first space taxi testWhen NASA first named Boeing and SpaceX as recipients of the Commercial Crew Program, they originally aimed to end the agency's dependence on Russia by 2017. But developing space technologies is hard, and both companies had to push their first crewed test flights to late 2018 -- some reports even say they'll be delayed until 2019. While it's still...   \n",
       "\n",
       "                                                                                        title  \\\n",
       "5038  eBay launches visual search tools that let you shop using photos from your phone or web   \n",
       "5039            Monsanto Attacks Scientists After Studies Show Trouble For Its New Weedkiller   \n",
       "5040                                      2017 Hard Drive Reliability by Drive Size and Brand   \n",
       "5041                                                               How Unreal Renders a Frame   \n",
       "5042                                          Boeing builds towards its first space taxi test   \n",
       "\n",
       "           week  \\\n",
       "5038 2017-10-29   \n",
       "5039 2017-10-29   \n",
       "5040 2017-10-29   \n",
       "5041 2017-10-29   \n",
       "5042 2017-10-29   \n",
       "\n",
       "                                                                                                                                                                                                                                                                                                                                                                                                           clean_text  \n",
       "5038  ebay launches visual search tools that let you shop using photos from your phone or webebay today is launching two new visual search tools that will allow online shoppers to use photos they snap have saved on their phone or even those they find while browsing the web or other social networking sites in order to find matching products from ebays catalog. the tools image search and find it on eb...  \n",
       "5039  monsanto attacks scientists after studies show trouble for its new weedkiller  the saltscientists are accusing the seedandpesticide giant monsanto of denying the risks of its latest weedkilling technology. monsanto has responded by attacking some of its scientific critics.monsanto attacks scientists after studies show trouble for its new weedkillerbob scott an expert on weeds with the universi...  \n",
       "5040  hard drive stats for q in q  backblaze introduced both  tb and  tb hard drives into our data centers we continued to retire  tb and  tb hard drives to increase storage density and we added over  petabytes of data storage to bring our total storage capacity to  petabytes.in this update well review the q  and lifetime hard drive failure rates for all our drive models in use at the end of q. well...  \n",
       "5041  this is part  of the how unreal renders a frame series you can access part  and part  as well.i was looking around the unreal source the other day and inspired by some excellent breakdowns of how popular games render a frame i thought to try something similar with it as well to study how it renders a frame with the default settingsscene setup.since we have access to the source code it is possi...  \n",
       "5042  boeing builds towards its first space taxi testwhen nasa first named boeing and spacex as recipients of the commercial crew program they originally aimed to end the agencys dependence on russia by . but developing space technologies is hard and both companies had to push their first crewed test flights to late   some reports even say theyll be delayed until . while its still unclear when well ...  "
      ]
     },
     "execution_count": 13,
     "metadata": {},
     "output_type": "execute_result"
    }
   ],
   "source": [
    "import re\n",
    "\n",
    "# get rid of everything except letters, space and .!?\n",
    "clean = lambda x : re.sub('[^a-z .!?]', \"\", str(x).lower())\n",
    "\n",
    "# clean text\n",
    "%time df[\"clean_text\"] = df.text.apply(clean) \n",
    "df.head()"
   ]
  },
  {
   "cell_type": "markdown",
   "metadata": {},
   "source": [
    "## Lemmatizitation / Stemming\n",
    "\n",
    "- Stemming -> Heuristic (fast)\n",
    "- Lemmatization -> Based on dictionary (not so fast)\n",
    "\n",
    "<img src=\"https://timkuhn.github.io/TextMining/images/lemma.png\" width=\"300\">"
   ]
  },
  {
   "cell_type": "code",
   "execution_count": 14,
   "metadata": {},
   "outputs": [],
   "source": [
    "from nltk import word_tokenize          \n",
    "from nltk.stem import WordNetLemmatizer \n",
    "class LemmaTokenizer(object):\n",
    "    def __init__(self):\n",
    "        self.wnl = WordNetLemmatizer()\n",
    "    def __call__(self, articles):\n",
    "        return [self.wnl.lemmatize(t) for t in word_tokenize(articles)]"
   ]
  },
  {
   "cell_type": "code",
   "execution_count": null,
   "metadata": {},
   "outputs": [],
   "source": []
  },
  {
   "cell_type": "markdown",
   "metadata": {},
   "source": [
    "## Popularity based prefiltering\n",
    "\n",
    "Idea: Very frequent and very infrequent words are either too common or too rare to provide insights.\n",
    "\n",
    "> removing corpus-specific stop words\n",
    "\n",
    "\n",
    "#### Motivation:\n",
    "\n",
    "<img src=\"https://finnaarupnielsen.files.wordpress.com/2013/10/brownzipf.png\" width=350>"
   ]
  },
  {
   "cell_type": "markdown",
   "metadata": {},
   "source": [
    "#### Word frequency for our corpus:"
   ]
  },
  {
   "cell_type": "code",
   "execution_count": 45,
   "metadata": {},
   "outputs": [
    {
     "data": {
      "text/plain": [
       "<matplotlib.axes._subplots.AxesSubplot at 0x1ee8699afc8>"
      ]
     },
     "execution_count": 45,
     "metadata": {},
     "output_type": "execute_result"
    },
    {
     "data": {
      "image/png": "[encoded data removed]",
      "text/plain": [
       "<Figure size 432x288 with 1 Axes>"
      ]
     },
     "metadata": {
      "needs_background": "light"
     },
     "output_type": "display_data"
    }
   ],
   "source": [
    "import matplotlib.pyplot as plt\n",
    "pd.Series([j for k in df[\"clean_text\"].str.split().values for j in k]).value_counts().plot(logy=True, logx=True)"
   ]
  },
  {
   "cell_type": "code",
   "execution_count": 31,
   "metadata": {},
   "outputs": [
    {
     "name": "stdout",
     "output_type": "stream",
     "text": [
      "sklearn.__version__: 0.22.1\n"
     ]
    },
    {
     "name": "stderr",
     "output_type": "stream",
     "text": [
      "[nltk_data] Downloading package punkt to\n",
      "[nltk_data]     C:\\Users\\dl\\AppData\\Roaming\\nltk_data...\n",
      "[nltk_data]   Package punkt is already up-to-date!\n",
      "[nltk_data] Downloading package wordnet to\n",
      "[nltk_data]     C:\\Users\\dl\\AppData\\Roaming\\nltk_data...\n",
      "[nltk_data]   Package wordnet is already up-to-date!\n"
     ]
    },
    {
     "data": {
      "text/plain": [
       "True"
      ]
     },
     "execution_count": 31,
     "metadata": {},
     "output_type": "execute_result"
    }
   ],
   "source": [
    "import nltk\n",
    "nltk.download('punkt')\n",
    "nltk.download('wordnet')"
   ]
  },
  {
   "cell_type": "code",
   "execution_count": 32,
   "metadata": {},
   "outputs": [],
   "source": [
    "stopwords=['of', \"the\", \"to\", \"a\"]"
   ]
  },
  {
   "cell_type": "code",
   "execution_count": 33,
   "metadata": {},
   "outputs": [
    {
     "name": "stdout",
     "output_type": "stream",
     "text": [
      "Wall time: 2.97 s\n"
     ]
    },
    {
     "data": {
      "text/plain": [
       "8372"
      ]
     },
     "execution_count": 33,
     "metadata": {},
     "output_type": "execute_result"
    }
   ],
   "source": [
    "from sklearn.feature_extraction.text import CountVectorizer\n",
    "# cv = CountVectorizer(min_df=0.005, max_df=0.6, tokenizer=LemmaTokenizer()) # lemma tokenizer\n",
    "cv = CountVectorizer(min_df=0.005, max_df=0.6,\n",
    "                     stop_words=stopwords) # no lemmatization\n",
    "\n",
    "%time cv.fit(df[\"clean_text\"].values)\n",
    "len(cv.vocabulary_)"
   ]
  },
  {
   "cell_type": "markdown",
   "metadata": {},
   "source": [
    "#### Get the vocabulary from the cv object and filter all words not in the vocab"
   ]
  },
  {
   "cell_type": "code",
   "execution_count": 37,
   "metadata": {},
   "outputs": [
    {
     "name": "stdout",
     "output_type": "stream",
     "text": [
      "Wall time: 493 ms\n"
     ]
    },
    {
     "data": {
      "text/html": [
       "<div>\n",
       "<style scoped>\n",
       "    .dataframe tbody tr th:only-of-type {\n",
       "        vertical-align: middle;\n",
       "    }\n",
       "\n",
       "    .dataframe tbody tr th {\n",
       "        vertical-align: top;\n",
       "    }\n",
       "\n",
       "    .dataframe thead th {\n",
       "        text-align: right;\n",
       "    }\n",
       "</style>\n",
       "<table border=\"1\" class=\"dataframe\">\n",
       "  <thead>\n",
       "    <tr style=\"text-align: right;\">\n",
       "      <th></th>\n",
       "      <th>Index</th>\n",
       "      <th>date</th>\n",
       "      <th>text</th>\n",
       "      <th>title</th>\n",
       "      <th>week</th>\n",
       "      <th>clean_text</th>\n",
       "    </tr>\n",
       "  </thead>\n",
       "  <tbody>\n",
       "    <tr>\n",
       "      <th>5038</th>\n",
       "      <td>621031</td>\n",
       "      <td>2017-10-26 15:00:54</td>\n",
       "      <td>eBay launches visual search tools that let you shop using photos from your phone or web0eBay today is launching two new visual search tools that will allow online shoppers to use photos they snap, have saved on their phone, or even those they find while browsing the web or other social networking sites, in order to find matching products from eBay’s catalog. The tools, Image Search and Find it...</td>\n",
       "      <td>eBay launches visual search tools that let you shop using photos from your phone or web</td>\n",
       "      <td>2017-10-29</td>\n",
       "      <td>ebay launches visual search tools let shop using photos your phone today launching two visual search tools allow online shoppers use photos snap saved phone even those find while browsing web social networking sites order find matching products tools image search find ebay leverage advancements computer vision deep learning including use neural networks company first tool image search allows m...</td>\n",
       "    </tr>\n",
       "    <tr>\n",
       "      <th>5039</th>\n",
       "      <td>621032</td>\n",
       "      <td>2017-10-26 00:00:00</td>\n",
       "      <td>Monsanto Attacks Scientists After Studies Show Trouble For Its New Weedkiller : The SaltScientists are accusing the seed-and-pesticide giant Monsanto of denying the risks of its latest weedkilling technology. Monsanto has responded by attacking some of its scientific critics.Monsanto Attacks Scientists After Studies Show Trouble For Its New WeedkillerBob Scott, an expert on weeds with the Univ...</td>\n",
       "      <td>Monsanto Attacks Scientists After Studies Show Trouble For Its New Weedkiller</td>\n",
       "      <td>2017-10-29</td>\n",
       "      <td>attacks scientists after studies show trouble accusing giant denying risks latest responded attacking some scientific attacks scientists after studies show trouble scott expert university research plot where were exposed dan charles npr hide charles scott expert university research plot where were exposed charles normal year kevin professor weed science university missouri would spent his summ...</td>\n",
       "    </tr>\n",
       "    <tr>\n",
       "      <th>5040</th>\n",
       "      <td>621035</td>\n",
       "      <td>2017-10-26 14:41:12</td>\n",
       "      <td>Hard Drive Stats for Q3 2017In Q3 2017, Backblaze introduced both 10 TB and 12 TB hard drives into our data centers, we continued to retire 3 TB and 4 TB hard drives to increase storage density, and we added over 59 petabytes of data storage to bring our total storage capacity to 400 petabytes.In this update, we’ll review the Q3 2017 and lifetime hard drive failure rates for all our drive mode...</td>\n",
       "      <td>2017 Hard Drive Reliability by Drive Size and Brand</td>\n",
       "      <td>2017-10-29</td>\n",
       "      <td>hard drive stats introduced both tb tb hard drives into our data centers continued tb tb hard drives increase storage density added over data storage bring our total storage capacity update well review lifetime hard drive failure rates our drive models use end well check our tb enterprise versus consumer hard drive comparison look storage density changes our data centers over past couple along...</td>\n",
       "    </tr>\n",
       "    <tr>\n",
       "      <th>5041</th>\n",
       "      <td>621036</td>\n",
       "      <td>2017-10-26 15:27:11</td>\n",
       "      <td>This is part 1 of the “How Unreal Renders a Frame” series, you can access part 2 and part 3 as well.I was looking around the Unreal source the other day and inspired by some excellent breakdowns of how popular games render a frame, I thought to try something similar with it as well, to study how it renders a frame (with the default settings/scene setup).Since we have access to the source code,...</td>\n",
       "      <td>How Unreal Renders a Frame</td>\n",
       "      <td>2017-10-29</td>\n",
       "      <td>part how renders frame series access part part looking around source day inspired some excellent how popular games render frame thought try something similar well study how renders frame default access source code possible study source see what does although quite beast rendering paths depend lot context clean lowlevel api call list easier follow looking into code fill any missing put together...</td>\n",
       "    </tr>\n",
       "    <tr>\n",
       "      <th>5042</th>\n",
       "      <td>621423</td>\n",
       "      <td>2017-10-26 16:02:00</td>\n",
       "      <td>Boeing builds towards its first space taxi testWhen NASA first named Boeing and SpaceX as recipients of the Commercial Crew Program, they originally aimed to end the agency's dependence on Russia by 2017. But developing space technologies is hard, and both companies had to push their first crewed test flights to late 2018 -- some reports even say they'll be delayed until 2019. While it's still...</td>\n",
       "      <td>Boeing builds towards its first space taxi test</td>\n",
       "      <td>2017-10-29</td>\n",
       "      <td>builds towards first space taxi nasa first named spacex recipients commercial crew program originally aimed end agencys russia developing space technologies hard both companies had push first test flights late some reports even say theyll delayed until while still unclear well see first space taxi blast off least begun putting together rocket taxi orbit very first launch alliance joint company...</td>\n",
       "    </tr>\n",
       "  </tbody>\n",
       "</table>\n",
       "</div>"
      ],
      "text/plain": [
       "       Index                date  \\\n",
       "5038  621031 2017-10-26 15:00:54   \n",
       "5039  621032 2017-10-26 00:00:00   \n",
       "5040  621035 2017-10-26 14:41:12   \n",
       "5041  621036 2017-10-26 15:27:11   \n",
       "5042  621423 2017-10-26 16:02:00   \n",
       "\n",
       "                                                                                                                                                                                                                                                                                                                                                                                                                 text  \\\n",
       "5038  eBay launches visual search tools that let you shop using photos from your phone or web0eBay today is launching two new visual search tools that will allow online shoppers to use photos they snap, have saved on their phone, or even those they find while browsing the web or other social networking sites, in order to find matching products from eBay’s catalog. The tools, Image Search and Find it...   \n",
       "5039  Monsanto Attacks Scientists After Studies Show Trouble For Its New Weedkiller : The SaltScientists are accusing the seed-and-pesticide giant Monsanto of denying the risks of its latest weedkilling technology. Monsanto has responded by attacking some of its scientific critics.Monsanto Attacks Scientists After Studies Show Trouble For Its New WeedkillerBob Scott, an expert on weeds with the Univ...   \n",
       "5040  Hard Drive Stats for Q3 2017In Q3 2017, Backblaze introduced both 10 TB and 12 TB hard drives into our data centers, we continued to retire 3 TB and 4 TB hard drives to increase storage density, and we added over 59 petabytes of data storage to bring our total storage capacity to 400 petabytes.In this update, we’ll review the Q3 2017 and lifetime hard drive failure rates for all our drive mode...   \n",
       "5041  This is part 1 of the “How Unreal Renders a Frame” series, you can access part 2 and part 3 as well.I was looking around the Unreal source the other day and inspired by some excellent breakdowns of how popular games render a frame, I thought to try something similar with it as well, to study how it renders a frame (with the default settings/scene setup).Since we have access to the source code,...   \n",
       "5042  Boeing builds towards its first space taxi testWhen NASA first named Boeing and SpaceX as recipients of the Commercial Crew Program, they originally aimed to end the agency's dependence on Russia by 2017. But developing space technologies is hard, and both companies had to push their first crewed test flights to late 2018 -- some reports even say they'll be delayed until 2019. While it's still...   \n",
       "\n",
       "                                                                                        title  \\\n",
       "5038  eBay launches visual search tools that let you shop using photos from your phone or web   \n",
       "5039            Monsanto Attacks Scientists After Studies Show Trouble For Its New Weedkiller   \n",
       "5040                                      2017 Hard Drive Reliability by Drive Size and Brand   \n",
       "5041                                                               How Unreal Renders a Frame   \n",
       "5042                                          Boeing builds towards its first space taxi test   \n",
       "\n",
       "           week  \\\n",
       "5038 2017-10-29   \n",
       "5039 2017-10-29   \n",
       "5040 2017-10-29   \n",
       "5041 2017-10-29   \n",
       "5042 2017-10-29   \n",
       "\n",
       "                                                                                                                                                                                                                                                                                                                                                                                                           clean_text  \n",
       "5038  ebay launches visual search tools let shop using photos your phone today launching two visual search tools allow online shoppers use photos snap saved phone even those find while browsing web social networking sites order find matching products tools image search find ebay leverage advancements computer vision deep learning including use neural networks company first tool image search allows m...  \n",
       "5039  attacks scientists after studies show trouble accusing giant denying risks latest responded attacking some scientific attacks scientists after studies show trouble scott expert university research plot where were exposed dan charles npr hide charles scott expert university research plot where were exposed charles normal year kevin professor weed science university missouri would spent his summ...  \n",
       "5040  hard drive stats introduced both tb tb hard drives into our data centers continued tb tb hard drives increase storage density added over data storage bring our total storage capacity update well review lifetime hard drive failure rates our drive models use end well check our tb enterprise versus consumer hard drive comparison look storage density changes our data centers over past couple along...  \n",
       "5041  part how renders frame series access part part looking around source day inspired some excellent how popular games render frame thought try something similar well study how renders frame default access source code possible study source see what does although quite beast rendering paths depend lot context clean lowlevel api call list easier follow looking into code fill any missing put together...  \n",
       "5042  builds towards first space taxi nasa first named spacex recipients commercial crew program originally aimed end agencys russia developing space technologies hard both companies had push first test flights late some reports even say theyll delayed until while still unclear well see first space taxi blast off least begun putting together rocket taxi orbit very first launch alliance joint company...  "
      ]
     },
     "execution_count": 37,
     "metadata": {},
     "output_type": "execute_result"
    }
   ],
   "source": [
    "vocab = frozenset(cv.vocabulary_)\n",
    "%time df[\"clean_text\"] = df[\"clean_text\"].str.split().apply(lambda x : [y for y in x if y in vocab]).apply(\" \".join)\n",
    "df.head()"
   ]
  },
  {
   "cell_type": "markdown",
   "metadata": {},
   "source": [
    "# Save Data for later"
   ]
  },
  {
   "cell_type": "code",
   "execution_count": 46,
   "metadata": {},
   "outputs": [],
   "source": [
    "df.to_csv(\"data/sample_5000_clean.csv\")"
   ]
  },
  {
   "cell_type": "markdown",
   "metadata": {},
   "source": [
    "# Summary\n",
    "\n",
    "- 1. Loaded Data\n",
    "- 2. Got to know Data\n",
    "    - 2.1 Distributions\n",
    "    - 2.2 frequent words and stuff\n",
    "- 3. Clean Data\n",
    "    - 3.1 remove weird characters\n",
    "    - 3.2 stopwords\n",
    "    - 3.3 popularity based prefiltering\n",
    "    - 3.4 lemmatization / stemming\n",
    "- 4. Tokenize Data\n",
    "- 5. Save preprocessed data"
   ]
  },
  {
   "cell_type": "code",
   "execution_count": null,
   "metadata": {},
   "outputs": [],
   "source": []
  }
 ],
 "metadata": {
  "kernelspec": {
   "display_name": "py37",
   "language": "python",
   "name": "py37"
  },
  "language_info": {
   "codemirror_mode": {
    "name": "ipython",
    "version": 3
   },
   "file_extension": ".py",
   "mimetype": "text/x-python",
   "name": "python",
   "nbconvert_exporter": "python",
   "pygments_lexer": "ipython3",
   "version": "3.7.6"
  }
 },
 "nbformat": 4,
 "nbformat_minor": 4
}

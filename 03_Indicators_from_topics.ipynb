{
 "cells": [
  {
   "cell_type": "markdown",
   "metadata": {},
   "source": [
    "1. Load data and models\n",
    "2. Generate normalized topic importance measures\n",
    "3. Coincide with other timeline\n",
    "4. Test for Granger Causality"
   ]
  },
  {
   "cell_type": "markdown",
   "metadata": {},
   "source": [
    "# Load cleaned data "
   ]
  },
  {
   "cell_type": "code",
   "execution_count": 18,
   "metadata": {},
   "outputs": [
    {
     "name": "stdout",
     "output_type": "stream",
     "text": [
      "(5000, 6)\n"
     ]
    },
    {
     "data": {
      "text/html": [
       "<div>\n",
       "<style scoped>\n",
       "    .dataframe tbody tr th:only-of-type {\n",
       "        vertical-align: middle;\n",
       "    }\n",
       "\n",
       "    .dataframe tbody tr th {\n",
       "        vertical-align: top;\n",
       "    }\n",
       "\n",
       "    .dataframe thead th {\n",
       "        text-align: right;\n",
       "    }\n",
       "</style>\n",
       "<table border=\"1\" class=\"dataframe\">\n",
       "  <thead>\n",
       "    <tr style=\"text-align: right;\">\n",
       "      <th></th>\n",
       "      <th>Index</th>\n",
       "      <th>date</th>\n",
       "      <th>text</th>\n",
       "      <th>title</th>\n",
       "      <th>week</th>\n",
       "      <th>clean_text</th>\n",
       "    </tr>\n",
       "  </thead>\n",
       "  <tbody>\n",
       "    <tr>\n",
       "      <th>5038</th>\n",
       "      <td>621031</td>\n",
       "      <td>2017-10-26 15:00:54</td>\n",
       "      <td>eBay launches visual search tools that let you...</td>\n",
       "      <td>eBay launches visual search tools that let you...</td>\n",
       "      <td>2017-10-29 00:00:00</td>\n",
       "      <td>ebay launches visual search tools let shop usi...</td>\n",
       "    </tr>\n",
       "    <tr>\n",
       "      <th>5039</th>\n",
       "      <td>621032</td>\n",
       "      <td>2017-10-26 00:00:00</td>\n",
       "      <td>Monsanto Attacks Scientists After Studies Show...</td>\n",
       "      <td>Monsanto Attacks Scientists After Studies Show...</td>\n",
       "      <td>2017-10-29 00:00:00</td>\n",
       "      <td>attacks scientists after studies show trouble ...</td>\n",
       "    </tr>\n",
       "    <tr>\n",
       "      <th>5040</th>\n",
       "      <td>621035</td>\n",
       "      <td>2017-10-26 14:41:12</td>\n",
       "      <td>Hard Drive Stats for Q3 2017In Q3 2017, Backbl...</td>\n",
       "      <td>2017 Hard Drive Reliability by Drive Size and ...</td>\n",
       "      <td>2017-10-29 00:00:00</td>\n",
       "      <td>hard drive stats introduced both tb tb hard dr...</td>\n",
       "    </tr>\n",
       "    <tr>\n",
       "      <th>5041</th>\n",
       "      <td>621036</td>\n",
       "      <td>2017-10-26 15:27:11</td>\n",
       "      <td>This is part 1 of the “How Unreal Renders a Fr...</td>\n",
       "      <td>How Unreal Renders a Frame</td>\n",
       "      <td>2017-10-29 00:00:00</td>\n",
       "      <td>part how renders frame series access part part...</td>\n",
       "    </tr>\n",
       "    <tr>\n",
       "      <th>5042</th>\n",
       "      <td>621423</td>\n",
       "      <td>2017-10-26 16:02:00</td>\n",
       "      <td>Boeing builds towards its first space taxi tes...</td>\n",
       "      <td>Boeing builds towards its first space taxi test</td>\n",
       "      <td>2017-10-29 00:00:00</td>\n",
       "      <td>builds towards first space taxi nasa first nam...</td>\n",
       "    </tr>\n",
       "  </tbody>\n",
       "</table>\n",
       "</div>"
      ],
      "text/plain": [
       "       Index                 date  \\\n",
       "5038  621031  2017-10-26 15:00:54   \n",
       "5039  621032  2017-10-26 00:00:00   \n",
       "5040  621035  2017-10-26 14:41:12   \n",
       "5041  621036  2017-10-26 15:27:11   \n",
       "5042  621423  2017-10-26 16:02:00   \n",
       "\n",
       "                                                   text  \\\n",
       "5038  eBay launches visual search tools that let you...   \n",
       "5039  Monsanto Attacks Scientists After Studies Show...   \n",
       "5040  Hard Drive Stats for Q3 2017In Q3 2017, Backbl...   \n",
       "5041  This is part 1 of the “How Unreal Renders a Fr...   \n",
       "5042  Boeing builds towards its first space taxi tes...   \n",
       "\n",
       "                                                  title                 week  \\\n",
       "5038  eBay launches visual search tools that let you...  2017-10-29 00:00:00   \n",
       "5039  Monsanto Attacks Scientists After Studies Show...  2017-10-29 00:00:00   \n",
       "5040  2017 Hard Drive Reliability by Drive Size and ...  2017-10-29 00:00:00   \n",
       "5041                         How Unreal Renders a Frame  2017-10-29 00:00:00   \n",
       "5042    Boeing builds towards its first space taxi test  2017-10-29 00:00:00   \n",
       "\n",
       "                                             clean_text  \n",
       "5038  ebay launches visual search tools let shop usi...  \n",
       "5039  attacks scientists after studies show trouble ...  \n",
       "5040  hard drive stats introduced both tb tb hard dr...  \n",
       "5041  part how renders frame series access part part...  \n",
       "5042  builds towards first space taxi nasa first nam...  "
      ]
     },
     "execution_count": 18,
     "metadata": {},
     "output_type": "execute_result"
    }
   ],
   "source": [
    "import pandas as pd\n",
    "df = pd.read_csv('data/sample_5000_clean.csv', index_col=\"Unnamed: 0\")\n",
    "print(df.shape)\n",
    "df.head()"
   ]
  },
  {
   "cell_type": "code",
   "execution_count": 19,
   "metadata": {},
   "outputs": [],
   "source": [
    "import joblib\n",
    "lda = joblib.load(\"models/lda\")\n",
    "tf_vec = joblib.load(\"models/tfvec\")\n",
    "tf = joblib.load(\"models/tf\")"
   ]
  },
  {
   "cell_type": "markdown",
   "metadata": {},
   "source": [
    "# Generate Indicators"
   ]
  },
  {
   "cell_type": "markdown",
   "metadata": {},
   "source": [
    "## LDA"
   ]
  },
  {
   "cell_type": "code",
   "execution_count": 20,
   "metadata": {},
   "outputs": [
    {
     "name": "stdout",
     "output_type": "stream",
     "text": [
      "(3000, 15)\n"
     ]
    },
    {
     "data": {
      "text/html": [
       "<div>\n",
       "<style scoped>\n",
       "    .dataframe tbody tr th:only-of-type {\n",
       "        vertical-align: middle;\n",
       "    }\n",
       "\n",
       "    .dataframe tbody tr th {\n",
       "        vertical-align: top;\n",
       "    }\n",
       "\n",
       "    .dataframe thead th {\n",
       "        text-align: right;\n",
       "    }\n",
       "</style>\n",
       "<table border=\"1\" class=\"dataframe\">\n",
       "  <thead>\n",
       "    <tr style=\"text-align: right;\">\n",
       "      <th></th>\n",
       "      <th>Index</th>\n",
       "      <th>date</th>\n",
       "      <th>text</th>\n",
       "      <th>title</th>\n",
       "      <th>week</th>\n",
       "      <th>clean_text</th>\n",
       "      <th>Q</th>\n",
       "      <th>Q_dummy</th>\n",
       "      <th>W</th>\n",
       "      <th>W_dummy</th>\n",
       "      <th>M</th>\n",
       "      <th>M_dummy</th>\n",
       "    </tr>\n",
       "  </thead>\n",
       "  <tbody>\n",
       "    <tr>\n",
       "      <th>5038</th>\n",
       "      <td>621031</td>\n",
       "      <td>2017-10-26 15:00:54</td>\n",
       "      <td>eBay launches visual search tools that let you...</td>\n",
       "      <td>eBay launches visual search tools that let you...</td>\n",
       "      <td>2017-10-29 00:00:00</td>\n",
       "      <td>ebay launches visual search tools let shop usi...</td>\n",
       "      <td>2017-12-31</td>\n",
       "      <td>0</td>\n",
       "      <td>2017-10-29</td>\n",
       "      <td>0</td>\n",
       "      <td>2017-10-31</td>\n",
       "      <td>0</td>\n",
       "    </tr>\n",
       "    <tr>\n",
       "      <th>5039</th>\n",
       "      <td>621032</td>\n",
       "      <td>2017-10-26 00:00:00</td>\n",
       "      <td>Monsanto Attacks Scientists After Studies Show...</td>\n",
       "      <td>Monsanto Attacks Scientists After Studies Show...</td>\n",
       "      <td>2017-10-29 00:00:00</td>\n",
       "      <td>attacks scientists after studies show trouble ...</td>\n",
       "      <td>2017-12-31</td>\n",
       "      <td>0</td>\n",
       "      <td>2017-10-29</td>\n",
       "      <td>0</td>\n",
       "      <td>2017-10-31</td>\n",
       "      <td>0</td>\n",
       "    </tr>\n",
       "    <tr>\n",
       "      <th>5040</th>\n",
       "      <td>621035</td>\n",
       "      <td>2017-10-26 14:41:12</td>\n",
       "      <td>Hard Drive Stats for Q3 2017In Q3 2017, Backbl...</td>\n",
       "      <td>2017 Hard Drive Reliability by Drive Size and ...</td>\n",
       "      <td>2017-10-29 00:00:00</td>\n",
       "      <td>hard drive stats introduced both tb tb hard dr...</td>\n",
       "      <td>2017-12-31</td>\n",
       "      <td>0</td>\n",
       "      <td>2017-10-29</td>\n",
       "      <td>0</td>\n",
       "      <td>2017-10-31</td>\n",
       "      <td>0</td>\n",
       "    </tr>\n",
       "    <tr>\n",
       "      <th>5041</th>\n",
       "      <td>621036</td>\n",
       "      <td>2017-10-26 15:27:11</td>\n",
       "      <td>This is part 1 of the “How Unreal Renders a Fr...</td>\n",
       "      <td>How Unreal Renders a Frame</td>\n",
       "      <td>2017-10-29 00:00:00</td>\n",
       "      <td>part how renders frame series access part part...</td>\n",
       "      <td>2017-12-31</td>\n",
       "      <td>0</td>\n",
       "      <td>2017-10-29</td>\n",
       "      <td>0</td>\n",
       "      <td>2017-10-31</td>\n",
       "      <td>0</td>\n",
       "    </tr>\n",
       "    <tr>\n",
       "      <th>5042</th>\n",
       "      <td>621423</td>\n",
       "      <td>2017-10-26 16:02:00</td>\n",
       "      <td>Boeing builds towards its first space taxi tes...</td>\n",
       "      <td>Boeing builds towards its first space taxi test</td>\n",
       "      <td>2017-10-29 00:00:00</td>\n",
       "      <td>builds towards first space taxi nasa first nam...</td>\n",
       "      <td>2017-12-31</td>\n",
       "      <td>0</td>\n",
       "      <td>2017-10-29</td>\n",
       "      <td>0</td>\n",
       "      <td>2017-10-31</td>\n",
       "      <td>0</td>\n",
       "    </tr>\n",
       "  </tbody>\n",
       "</table>\n",
       "</div>"
      ],
      "text/plain": [
       "       Index                date  \\\n",
       "5038  621031 2017-10-26 15:00:54   \n",
       "5039  621032 2017-10-26 00:00:00   \n",
       "5040  621035 2017-10-26 14:41:12   \n",
       "5041  621036 2017-10-26 15:27:11   \n",
       "5042  621423 2017-10-26 16:02:00   \n",
       "\n",
       "                                                   text  \\\n",
       "5038  eBay launches visual search tools that let you...   \n",
       "5039  Monsanto Attacks Scientists After Studies Show...   \n",
       "5040  Hard Drive Stats for Q3 2017In Q3 2017, Backbl...   \n",
       "5041  This is part 1 of the “How Unreal Renders a Fr...   \n",
       "5042  Boeing builds towards its first space taxi tes...   \n",
       "\n",
       "                                                  title                 week  \\\n",
       "5038  eBay launches visual search tools that let you...  2017-10-29 00:00:00   \n",
       "5039  Monsanto Attacks Scientists After Studies Show...  2017-10-29 00:00:00   \n",
       "5040  2017 Hard Drive Reliability by Drive Size and ...  2017-10-29 00:00:00   \n",
       "5041                         How Unreal Renders a Frame  2017-10-29 00:00:00   \n",
       "5042    Boeing builds towards its first space taxi test  2017-10-29 00:00:00   \n",
       "\n",
       "                                             clean_text          Q  Q_dummy  \\\n",
       "5038  ebay launches visual search tools let shop usi... 2017-12-31        0   \n",
       "5039  attacks scientists after studies show trouble ... 2017-12-31        0   \n",
       "5040  hard drive stats introduced both tb tb hard dr... 2017-12-31        0   \n",
       "5041  part how renders frame series access part part... 2017-12-31        0   \n",
       "5042  builds towards first space taxi nasa first nam... 2017-12-31        0   \n",
       "\n",
       "              W  W_dummy          M  M_dummy  \n",
       "5038 2017-10-29        0 2017-10-31        0  \n",
       "5039 2017-10-29        0 2017-10-31        0  \n",
       "5040 2017-10-29        0 2017-10-31        0  \n",
       "5041 2017-10-29        0 2017-10-31        0  \n",
       "5042 2017-10-29        0 2017-10-31        0  "
      ]
     },
     "execution_count": 20,
     "metadata": {},
     "output_type": "execute_result"
    }
   ],
   "source": [
    "# get topic probabilites\n",
    "topic_probs = lda.transform(tf)\n",
    "print(topic_probs.shape)\n",
    "\n",
    "# cast dates to date type\n",
    "df.date = pd.to_datetime(df.date)\n",
    "# Generate frequencies \n",
    "freqs = [\"Q\", \"W\", \"M\"]\n",
    "for freq in freqs:\n",
    "    df[freq] = df.date.dt.to_period(freq).dt.to_timestamp(freq)\n",
    "    df[f\"{freq}_dummy\"] = pd.factorize(df[freq])[0]\n",
    "    \n",
    "df.head()"
   ]
  },
  {
   "cell_type": "code",
   "execution_count": 45,
   "metadata": {},
   "outputs": [],
   "source": [
    "########################\n",
    "## Data Preprocessing ##\n",
    "########################\n",
    "\n",
    "def predict_topics(text, tf, lda):\n",
    "    vec = tf.transform(text)\n",
    "    return lda.transform(vec)\n",
    "\n",
    "\n",
    "# topic weights\n",
    "df[\"topics\"] = df[\"text\"].apply(lambda x: predict_topics([x], tf_vec, lda))\n",
    "topics = df[\"topics\"].apply(lambda x: x[0]).apply(pd.Series)\n",
    "topics.columns = [f\"t_{i}\" for i in topics.columns.values]"
   ]
  },
  {
   "cell_type": "code",
   "execution_count": 46,
   "metadata": {},
   "outputs": [
    {
     "data": {
      "text/plain": [
       "<matplotlib.axes._subplots.AxesSubplot at 0x1ef8db00e48>"
      ]
     },
     "execution_count": 46,
     "metadata": {},
     "output_type": "execute_result"
    },
    {
     "data": {
      "image/png": "[encoded data removed]",
      "text/plain": [
       "<Figure size 432x288 with 1 Axes>"
      ]
     },
     "metadata": {
      "needs_background": "light"
     },
     "output_type": "display_data"
    }
   ],
   "source": [
    "import seaborn\n",
    "import matplotlib.pyplot as plt\n",
    "weights = topics.sum() / topics.sum().sum()\n",
    "seaborn.barplot(weights.index, weights.values)\n",
    "# plt.savefig(f\"results/{run}/topic_importance.png\", bbox_inches='tight')\n",
    "# plt.savefig(f\"results/{run}/topic_importance.pdf\", bbox_inches='tight')\n",
    "# plt.close()"
   ]
  },
  {
   "cell_type": "code",
   "execution_count": 47,
   "metadata": {},
   "outputs": [
    {
     "data": {
      "image/png": "[encoded data removed]",
      "text/plain": [
       "<Figure size 432x288 with 1 Axes>"
      ]
     },
     "metadata": {
      "needs_background": "light"
     },
     "output_type": "display_data"
    }
   ],
   "source": [
    "date_unit = \"W\"\n",
    "ewmspan=3\n",
    "ddf = topics.join(df[date_unit])\n",
    "fig, ax = plt.subplots()\n",
    "topics.join(df[date_unit]).groupby(date_unit)[topics.columns.values].mean().ewm(span=ewmspan).mean().plot(ax=ax)\n",
    "ax.legend([f\"Topic {i}\" for i in range(lda.n_components)], loc='center left', bbox_to_anchor=(1, 0.5), )\n",
    "ax.set_xlabel(f\"{date_unit}\".title())\n",
    "plt.suptitle(f\"Topic distribution over time (in {date_unit}s)\")\n",
    "plt.grid()\n",
    "# plt.savefig(f\"results/{run}/topic_timeline.png\", bbox_inches='tight')\n",
    "# plt.savefig(f\"results/{run}/topic_timeline.pdf\", bbox_inches='tight')\n",
    "# plt.close()\n"
   ]
  },
  {
   "cell_type": "code",
   "execution_count": null,
   "metadata": {},
   "outputs": [],
   "source": []
  },
  {
   "cell_type": "code",
   "execution_count": null,
   "metadata": {},
   "outputs": [],
   "source": []
  },
  {
   "cell_type": "markdown",
   "metadata": {},
   "source": [
    "# Match with other Time series"
   ]
  },
  {
   "cell_type": "code",
   "execution_count": 95,
   "metadata": {},
   "outputs": [
    {
     "data": {
      "text/html": [
       "<div>\n",
       "<style scoped>\n",
       "    .dataframe tbody tr th:only-of-type {\n",
       "        vertical-align: middle;\n",
       "    }\n",
       "\n",
       "    .dataframe tbody tr th {\n",
       "        vertical-align: top;\n",
       "    }\n",
       "\n",
       "    .dataframe thead th {\n",
       "        text-align: right;\n",
       "    }\n",
       "</style>\n",
       "<table border=\"1\" class=\"dataframe\">\n",
       "  <thead>\n",
       "    <tr style=\"text-align: right;\">\n",
       "      <th></th>\n",
       "      <th>time</th>\n",
       "      <th>low</th>\n",
       "      <th>high</th>\n",
       "      <th>open</th>\n",
       "      <th>close</th>\n",
       "      <th>volume</th>\n",
       "      <th>date</th>\n",
       "      <th>week</th>\n",
       "    </tr>\n",
       "  </thead>\n",
       "  <tbody>\n",
       "    <tr>\n",
       "      <th>0</th>\n",
       "      <td>1497196800</td>\n",
       "      <td>333.43</td>\n",
       "      <td>339.66</td>\n",
       "      <td>336.58</td>\n",
       "      <td>338.73</td>\n",
       "      <td>22887.57</td>\n",
       "      <td>2017-06-11 16:00:00</td>\n",
       "      <td>2017-06-11</td>\n",
       "    </tr>\n",
       "    <tr>\n",
       "      <th>1</th>\n",
       "      <td>1497200400</td>\n",
       "      <td>338.36</td>\n",
       "      <td>342.49</td>\n",
       "      <td>338.73</td>\n",
       "      <td>342.16</td>\n",
       "      <td>17959.55</td>\n",
       "      <td>2017-06-11 17:00:00</td>\n",
       "      <td>2017-06-11</td>\n",
       "    </tr>\n",
       "    <tr>\n",
       "      <th>2</th>\n",
       "      <td>1497204000</td>\n",
       "      <td>341.78</td>\n",
       "      <td>348.53</td>\n",
       "      <td>342.16</td>\n",
       "      <td>348.43</td>\n",
       "      <td>28182.27</td>\n",
       "      <td>2017-06-11 18:00:00</td>\n",
       "      <td>2017-06-11</td>\n",
       "    </tr>\n",
       "    <tr>\n",
       "      <th>3</th>\n",
       "      <td>1497207600</td>\n",
       "      <td>343.80</td>\n",
       "      <td>348.59</td>\n",
       "      <td>348.43</td>\n",
       "      <td>346.23</td>\n",
       "      <td>23394.43</td>\n",
       "      <td>2017-06-11 19:00:00</td>\n",
       "      <td>2017-06-11</td>\n",
       "    </tr>\n",
       "    <tr>\n",
       "      <th>4</th>\n",
       "      <td>1497211200</td>\n",
       "      <td>345.62</td>\n",
       "      <td>348.62</td>\n",
       "      <td>346.23</td>\n",
       "      <td>347.29</td>\n",
       "      <td>17382.68</td>\n",
       "      <td>2017-06-11 20:00:00</td>\n",
       "      <td>2017-06-11</td>\n",
       "    </tr>\n",
       "  </tbody>\n",
       "</table>\n",
       "</div>"
      ],
      "text/plain": [
       "         time     low    high    open   close    volume                date  \\\n",
       "0  1497196800  333.43  339.66  336.58  338.73  22887.57 2017-06-11 16:00:00   \n",
       "1  1497200400  338.36  342.49  338.73  342.16  17959.55 2017-06-11 17:00:00   \n",
       "2  1497204000  341.78  348.53  342.16  348.43  28182.27 2017-06-11 18:00:00   \n",
       "3  1497207600  343.80  348.59  348.43  346.23  23394.43 2017-06-11 19:00:00   \n",
       "4  1497211200  345.62  348.62  346.23  347.29  17382.68 2017-06-11 20:00:00   \n",
       "\n",
       "        week  \n",
       "0 2017-06-11  \n",
       "1 2017-06-11  \n",
       "2 2017-06-11  \n",
       "3 2017-06-11  \n",
       "4 2017-06-11  "
      ]
     },
     "execution_count": 95,
     "metadata": {},
     "output_type": "execute_result"
    }
   ],
   "source": [
    "ts = pd.read_csv(\"data/ETH-USD.tsv\", sep=\"\\t\")\n",
    "ts[\"date\"] = pd.to_datetime(ts['time'], unit=\"s\")\n",
    "ts[\"week\"] = ts.date.dt.to_period(\"W\").dt.to_timestamp(\"W\")\n",
    "\n",
    "ts.head()"
   ]
  },
  {
   "cell_type": "code",
   "execution_count": 96,
   "metadata": {},
   "outputs": [
    {
     "data": {
      "text/plain": [
       "<matplotlib.axes._subplots.AxesSubplot at 0x1ef8f17c688>"
      ]
     },
     "execution_count": 96,
     "metadata": {},
     "output_type": "execute_result"
    },
    {
     "data": {
      "image/png": "[encoded data removed]",
      "text/plain": [
       "<Figure size 432x288 with 1 Axes>"
      ]
     },
     "metadata": {
      "needs_background": "light"
     },
     "output_type": "display_data"
    }
   ],
   "source": [
    "ts.set_index('week')[\"close\"].plot()"
   ]
  },
  {
   "cell_type": "code",
   "execution_count": 97,
   "metadata": {},
   "outputs": [
    {
     "data": {
      "text/html": [
       "<div>\n",
       "<style scoped>\n",
       "    .dataframe tbody tr th:only-of-type {\n",
       "        vertical-align: middle;\n",
       "    }\n",
       "\n",
       "    .dataframe tbody tr th {\n",
       "        vertical-align: top;\n",
       "    }\n",
       "\n",
       "    .dataframe thead th {\n",
       "        text-align: right;\n",
       "    }\n",
       "</style>\n",
       "<table border=\"1\" class=\"dataframe\">\n",
       "  <thead>\n",
       "    <tr style=\"text-align: right;\">\n",
       "      <th></th>\n",
       "      <th>mean</th>\n",
       "      <th>close</th>\n",
       "    </tr>\n",
       "    <tr>\n",
       "      <th>week</th>\n",
       "      <th></th>\n",
       "      <th></th>\n",
       "    </tr>\n",
       "  </thead>\n",
       "  <tbody>\n",
       "    <tr>\n",
       "      <th>2017-09-10</th>\n",
       "      <td>0.006079</td>\n",
       "      <td>299.21</td>\n",
       "    </tr>\n",
       "    <tr>\n",
       "      <th>2017-09-17</th>\n",
       "      <td>0.000077</td>\n",
       "      <td>258.40</td>\n",
       "    </tr>\n",
       "    <tr>\n",
       "      <th>2017-09-24</th>\n",
       "      <td>0.065526</td>\n",
       "      <td>282.60</td>\n",
       "    </tr>\n",
       "    <tr>\n",
       "      <th>2017-10-01</th>\n",
       "      <td>0.038731</td>\n",
       "      <td>303.95</td>\n",
       "    </tr>\n",
       "    <tr>\n",
       "      <th>2017-10-08</th>\n",
       "      <td>0.050292</td>\n",
       "      <td>309.49</td>\n",
       "    </tr>\n",
       "  </tbody>\n",
       "</table>\n",
       "</div>"
      ],
      "text/plain": [
       "                mean   close\n",
       "week                        \n",
       "2017-09-10  0.006079  299.21\n",
       "2017-09-17  0.000077  258.40\n",
       "2017-09-24  0.065526  282.60\n",
       "2017-10-01  0.038731  303.95\n",
       "2017-10-08  0.050292  309.49"
      ]
     },
     "execution_count": 97,
     "metadata": {},
     "output_type": "execute_result"
    }
   ],
   "source": [
    "topics_w = topics.join(df.week)\n",
    "joined = topics_w.groupby(\"week\").t_9.agg([\"mean\"]).join(ts.groupby('week')['close'].last(), rsuffix=\"_\")\n",
    "joined.head()"
   ]
  },
  {
   "cell_type": "code",
   "execution_count": 98,
   "metadata": {},
   "outputs": [
    {
     "data": {
      "image/png": "[encoded data removed]",
      "text/plain": [
       "<Figure size 432x288 with 2 Axes>"
      ]
     },
     "metadata": {
      "needs_background": "light"
     },
     "output_type": "display_data"
    }
   ],
   "source": [
    "ax = joined['mean'].plot(label=\"lda\")\n",
    "joined['close'].plot(ax=ax, secondary_y=True, label=\"ts\")\n",
    "plt.legend()\n",
    "plt.grid()"
   ]
  },
  {
   "cell_type": "markdown",
   "metadata": {},
   "source": [
    "# Test for Granger Causality"
   ]
  },
  {
   "cell_type": "code",
   "execution_count": 99,
   "metadata": {},
   "outputs": [
    {
     "name": "stdout",
     "output_type": "stream",
     "text": [
      "\n",
      "Granger Causality\n",
      "number of lags (no zero) 1\n",
      "ssr based F test:         F=1.6211  , p=0.2162  , df_denom=22, df_num=1\n",
      "ssr based chi2 test:   chi2=1.8421  , p=0.1747  , df=1\n",
      "likelihood ratio test: chi2=1.7774  , p=0.1825  , df=1\n",
      "parameter F test:         F=1.6211  , p=0.2162  , df_denom=22, df_num=1\n",
      "\n",
      "Granger Causality\n",
      "number of lags (no zero) 2\n",
      "ssr based F test:         F=0.8779  , p=0.4319  , df_denom=19, df_num=2\n",
      "ssr based chi2 test:   chi2=2.2178  , p=0.3299  , df=2\n",
      "likelihood ratio test: chi2=2.1212  , p=0.3462  , df=2\n",
      "parameter F test:         F=0.8779  , p=0.4319  , df_denom=19, df_num=2\n",
      "\n",
      "Granger Causality\n",
      "number of lags (no zero) 3\n",
      "ssr based F test:         F=0.5349  , p=0.6650  , df_denom=16, df_num=3\n",
      "ssr based chi2 test:   chi2=2.3067  , p=0.5112  , df=3\n",
      "likelihood ratio test: chi2=2.1983  , p=0.5323  , df=3\n",
      "parameter F test:         F=0.5349  , p=0.6650  , df_denom=16, df_num=3\n",
      "\n",
      "Granger Causality\n",
      "number of lags (no zero) 4\n",
      "ssr based F test:         F=1.8079  , p=0.1875  , df_denom=13, df_num=4\n",
      "ssr based chi2 test:   chi2=12.2380 , p=0.0157  , df=4\n",
      "likelihood ratio test: chi2=9.7305  , p=0.0452  , df=4\n",
      "parameter F test:         F=1.8079  , p=0.1875  , df_denom=13, df_num=4\n",
      "\n",
      "Granger Causality\n",
      "number of lags (no zero) 5\n",
      "ssr based F test:         F=0.9109  , p=0.5112  , df_denom=10, df_num=5\n",
      "ssr based chi2 test:   chi2=9.5645  , p=0.0886  , df=5\n",
      "likelihood ratio test: chi2=7.8816  , p=0.1629  , df=5\n",
      "parameter F test:         F=0.9109  , p=0.5112  , df_denom=10, df_num=5\n",
      "\n",
      "Granger Causality\n",
      "number of lags (no zero) 6\n",
      "ssr based F test:         F=0.4885  , p=0.7994  , df_denom=7, df_num=6\n",
      "ssr based chi2 test:   chi2=8.3737  , p=0.2120  , df=6\n",
      "likelihood ratio test: chi2=6.9946  , p=0.3213  , df=6\n",
      "parameter F test:         F=0.4885  , p=0.7994  , df_denom=7, df_num=6\n",
      "\n",
      "Granger Causality\n",
      "number of lags (no zero) 7\n",
      "ssr based F test:         F=0.6444  , p=0.7133  , df_denom=4, df_num=7\n",
      "ssr based chi2 test:   chi2=21.4273 , p=0.0032  , df=7\n",
      "likelihood ratio test: chi2=14.3463 , p=0.0454  , df=7\n",
      "parameter F test:         F=0.6444  , p=0.7133  , df_denom=4, df_num=7\n"
     ]
    }
   ],
   "source": [
    "from statsmodels.tsa.stattools import grangercausalitytests\n",
    "\n",
    "gcres = grangercausalitytests(joined.values, maxlag=7)"
   ]
  },
  {
   "cell_type": "code",
   "execution_count": null,
   "metadata": {},
   "outputs": [],
   "source": []
  },
  {
   "cell_type": "code",
   "execution_count": null,
   "metadata": {},
   "outputs": [],
   "source": []
  }
 ],
 "metadata": {
  "kernelspec": {
   "display_name": "Python 3",
   "language": "python",
   "name": "python3"
  },
  "language_info": {
   "codemirror_mode": {
    "name": "ipython",
    "version": 3
   },
   "file_extension": ".py",
   "mimetype": "text/x-python",
   "name": "python",
   "nbconvert_exporter": "python",
   "pygments_lexer": "ipython3",
   "version": "3.7.6"
  }
 },
 "nbformat": 4,
 "nbformat_minor": 4
}
